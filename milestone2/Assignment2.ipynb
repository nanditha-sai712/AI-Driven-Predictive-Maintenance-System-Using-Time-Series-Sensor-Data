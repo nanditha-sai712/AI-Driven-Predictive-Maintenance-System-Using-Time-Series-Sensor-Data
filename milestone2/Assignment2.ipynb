{
 "cells": [
  {
   "cell_type": "code",
   "execution_count": 4,
   "id": "4d574283-3b74-458a-8655-9268de8de574",
   "metadata": {},
   "outputs": [],
   "source": [
    "                                                       #ASSIGNMNET 2\n",
    "import numpy as np\n",
    "import pandas as pd\n",
    "import tensorflow as tf\n",
    "from tensorflow.keras.models import Sequential\n",
    "from tensorflow.keras.layers import LSTM, Dense, Input\n",
    "from tensorflow.keras.callbacks import EarlyStopping, ReduceLROnPlateau, ModelCheckpoint\n",
    "from sklearn.model_selection import train_test_split\n",
    "from sklearn.preprocessing import MinMaxScaler\n",
    "import matplotlib.pyplot as plt\n"
   ]
  },
  {
   "cell_type": "code",
   "execution_count": 5,
   "id": "4a8dd76d-cca7-4f83-a7e1-1cd5beb970e7",
   "metadata": {},
   "outputs": [],
   "source": [
    "X = np.load(\"rolling_window_sequences.npy\")\n",
    "metadata = pd.read_csv(\"sequence_metadata_with_RUL.csv\")\n",
    "y = metadata[\"RUL\"].values\n",
    "\n",
    "min_len = min(X.shape[0], len(y))\n",
    "X = X[:min_len]\n",
    "y = y[:min_len]\n"
   ]
  },
  {
   "cell_type": "code",
   "execution_count": 6,
   "id": "fc87edfc-c64d-4319-8c55-f3476311e653",
   "metadata": {},
   "outputs": [],
   "source": [
    "X = np.nan_to_num(X, nan=0.0, posinf=0.0, neginf=0.0)\n",
    "y = np.nan_to_num(y, nan=0.0, posinf=0.0, neginf=0.0)\n"
   ]
  },
  {
   "cell_type": "code",
   "execution_count": 7,
   "id": "a2371275-1319-4b8b-9d4c-4971b5b2b9de",
   "metadata": {},
   "outputs": [],
   "source": [
    "X_shape = X.shape\n",
    "X = X.reshape(-1, X_shape[2])\n",
    "scaler = MinMaxScaler()\n",
    "X = scaler.fit_transform(X)\n",
    "X = X.reshape(X_shape)\n",
    "\n",
    "if y.max() != 0:\n",
    "    y = y / y.max()\n"
   ]
  },
  {
   "cell_type": "code",
   "execution_count": 8,
   "id": "90fa746b-0f24-463f-a94c-da615a8be830",
   "metadata": {},
   "outputs": [
    {
     "name": "stdout",
     "output_type": "stream",
     "text": [
      "Train shape: (14104, 30, 66) (14104,)\n",
      "Val shape: (3527, 30, 66) (3527,)\n"
     ]
    }
   ],
   "source": [
    "X_train, X_val, y_train, y_val = train_test_split(X, y, test_size=0.2, random_state=42)\n",
    "\n",
    "print(\"Train shape:\", X_train.shape, y_train.shape)\n",
    "print(\"Val shape:\", X_val.shape, y_val.shape)\n"
   ]
  },
  {
   "cell_type": "code",
   "execution_count": 9,
   "id": "22a96f96-6189-4d3e-a22b-57589e1de6c7",
   "metadata": {},
   "outputs": [],
   "source": [
    "train_dataset = tf.data.Dataset.from_tensor_slices((X_train, y_train)).batch(64).prefetch(1)\n",
    "val_dataset = tf.data.Dataset.from_tensor_slices((X_val, y_val)).batch(64).prefetch(1)\n"
   ]
  },
  {
   "cell_type": "code",
   "execution_count": 10,
   "id": "cabea843-9c36-4b3f-99f3-82bf81891c16",
   "metadata": {},
   "outputs": [
    {
     "data": {
      "text/html": [
       "<pre style=\"white-space:pre;overflow-x:auto;line-height:normal;font-family:Menlo,'DejaVu Sans Mono',consolas,'Courier New',monospace\"><span style=\"font-weight: bold\">Model: \"sequential\"</span>\n",
       "</pre>\n"
      ],
      "text/plain": [
       "\u001b[1mModel: \"sequential\"\u001b[0m\n"
      ]
     },
     "metadata": {},
     "output_type": "display_data"
    },
    {
     "data": {
      "text/html": [
       "<pre style=\"white-space:pre;overflow-x:auto;line-height:normal;font-family:Menlo,'DejaVu Sans Mono',consolas,'Courier New',monospace\">┏━━━━━━━━━━━━━━━━━━━━━━━━━━━━━━━━━━━━━━┳━━━━━━━━━━━━━━━━━━━━━━━━━━━━━┳━━━━━━━━━━━━━━━━━┓\n",
       "┃<span style=\"font-weight: bold\"> Layer (type)                         </span>┃<span style=\"font-weight: bold\"> Output Shape                </span>┃<span style=\"font-weight: bold\">         Param # </span>┃\n",
       "┡━━━━━━━━━━━━━━━━━━━━━━━━━━━━━━━━━━━━━━╇━━━━━━━━━━━━━━━━━━━━━━━━━━━━━╇━━━━━━━━━━━━━━━━━┩\n",
       "│ lstm (<span style=\"color: #0087ff; text-decoration-color: #0087ff\">LSTM</span>)                          │ (<span style=\"color: #00d7ff; text-decoration-color: #00d7ff\">None</span>, <span style=\"color: #00af00; text-decoration-color: #00af00\">64</span>)                  │          <span style=\"color: #00af00; text-decoration-color: #00af00\">33,536</span> │\n",
       "├──────────────────────────────────────┼─────────────────────────────┼─────────────────┤\n",
       "│ dense (<span style=\"color: #0087ff; text-decoration-color: #0087ff\">Dense</span>)                        │ (<span style=\"color: #00d7ff; text-decoration-color: #00d7ff\">None</span>, <span style=\"color: #00af00; text-decoration-color: #00af00\">1</span>)                   │              <span style=\"color: #00af00; text-decoration-color: #00af00\">65</span> │\n",
       "└──────────────────────────────────────┴─────────────────────────────┴─────────────────┘\n",
       "</pre>\n"
      ],
      "text/plain": [
       "┏━━━━━━━━━━━━━━━━━━━━━━━━━━━━━━━━━━━━━━┳━━━━━━━━━━━━━━━━━━━━━━━━━━━━━┳━━━━━━━━━━━━━━━━━┓\n",
       "┃\u001b[1m \u001b[0m\u001b[1mLayer (type)                        \u001b[0m\u001b[1m \u001b[0m┃\u001b[1m \u001b[0m\u001b[1mOutput Shape               \u001b[0m\u001b[1m \u001b[0m┃\u001b[1m \u001b[0m\u001b[1m        Param #\u001b[0m\u001b[1m \u001b[0m┃\n",
       "┡━━━━━━━━━━━━━━━━━━━━━━━━━━━━━━━━━━━━━━╇━━━━━━━━━━━━━━━━━━━━━━━━━━━━━╇━━━━━━━━━━━━━━━━━┩\n",
       "│ lstm (\u001b[38;5;33mLSTM\u001b[0m)                          │ (\u001b[38;5;45mNone\u001b[0m, \u001b[38;5;34m64\u001b[0m)                  │          \u001b[38;5;34m33,536\u001b[0m │\n",
       "├──────────────────────────────────────┼─────────────────────────────┼─────────────────┤\n",
       "│ dense (\u001b[38;5;33mDense\u001b[0m)                        │ (\u001b[38;5;45mNone\u001b[0m, \u001b[38;5;34m1\u001b[0m)                   │              \u001b[38;5;34m65\u001b[0m │\n",
       "└──────────────────────────────────────┴─────────────────────────────┴─────────────────┘\n"
      ]
     },
     "metadata": {},
     "output_type": "display_data"
    },
    {
     "data": {
      "text/html": [
       "<pre style=\"white-space:pre;overflow-x:auto;line-height:normal;font-family:Menlo,'DejaVu Sans Mono',consolas,'Courier New',monospace\"><span style=\"font-weight: bold\"> Total params: </span><span style=\"color: #00af00; text-decoration-color: #00af00\">33,601</span> (131.25 KB)\n",
       "</pre>\n"
      ],
      "text/plain": [
       "\u001b[1m Total params: \u001b[0m\u001b[38;5;34m33,601\u001b[0m (131.25 KB)\n"
      ]
     },
     "metadata": {},
     "output_type": "display_data"
    },
    {
     "data": {
      "text/html": [
       "<pre style=\"white-space:pre;overflow-x:auto;line-height:normal;font-family:Menlo,'DejaVu Sans Mono',consolas,'Courier New',monospace\"><span style=\"font-weight: bold\"> Trainable params: </span><span style=\"color: #00af00; text-decoration-color: #00af00\">33,601</span> (131.25 KB)\n",
       "</pre>\n"
      ],
      "text/plain": [
       "\u001b[1m Trainable params: \u001b[0m\u001b[38;5;34m33,601\u001b[0m (131.25 KB)\n"
      ]
     },
     "metadata": {},
     "output_type": "display_data"
    },
    {
     "data": {
      "text/html": [
       "<pre style=\"white-space:pre;overflow-x:auto;line-height:normal;font-family:Menlo,'DejaVu Sans Mono',consolas,'Courier New',monospace\"><span style=\"font-weight: bold\"> Non-trainable params: </span><span style=\"color: #00af00; text-decoration-color: #00af00\">0</span> (0.00 B)\n",
       "</pre>\n"
      ],
      "text/plain": [
       "\u001b[1m Non-trainable params: \u001b[0m\u001b[38;5;34m0\u001b[0m (0.00 B)\n"
      ]
     },
     "metadata": {},
     "output_type": "display_data"
    }
   ],
   "source": [
    "model = Sequential([\n",
    "    Input(shape=(X.shape[1], X.shape[2])),\n",
    "    LSTM(64, activation='tanh', return_sequences=False),\n",
    "    Dense(1)\n",
    "])\n",
    "\n",
    "model.compile(optimizer=tf.keras.optimizers.Adam(1e-4), loss='mse')\n",
    "model.summary()\n"
   ]
  },
  {
   "cell_type": "code",
   "execution_count": 11,
   "id": "eaa957bf-4d98-42e8-a70f-e1f9dae5d3cb",
   "metadata": {},
   "outputs": [],
   "source": [
    "early_stop = EarlyStopping(monitor='val_loss', patience=8, restore_best_weights=True, verbose=1)\n",
    "reduce_lr = ReduceLROnPlateau(monitor=\"val_loss\", factor=0.5, patience=4, min_lr=1e-6, verbose=1)\n",
    "model_ckpt = ModelCheckpoint(\"best_lstm_model.keras\", save_best_only=True, monitor=\"val_loss\", verbose=1)\n"
   ]
  },
  {
   "cell_type": "code",
   "execution_count": 12,
   "id": "cad7a2b1-b377-4497-8485-a8043d2e364b",
   "metadata": {},
   "outputs": [
    {
     "name": "stdout",
     "output_type": "stream",
     "text": [
      "Epoch 1/50\n",
      "\u001b[1m219/221\u001b[0m \u001b[32m━━━━━━━━━━━━━━━━━━━\u001b[0m\u001b[37m━\u001b[0m \u001b[1m0s\u001b[0m 25ms/step - loss: 0.1151\n",
      "Epoch 1: val_loss improved from None to 0.11182, saving model to best_lstm_model.keras\n",
      "\u001b[1m221/221\u001b[0m \u001b[32m━━━━━━━━━━━━━━━━━━━━\u001b[0m\u001b[37m\u001b[0m \u001b[1m11s\u001b[0m 30ms/step - loss: 0.1128 - val_loss: 0.1118 - learning_rate: 1.0000e-04\n",
      "Epoch 2/50\n",
      "\u001b[1m219/221\u001b[0m \u001b[32m━━━━━━━━━━━━━━━━━━━\u001b[0m\u001b[37m━\u001b[0m \u001b[1m0s\u001b[0m 23ms/step - loss: 0.1095\n",
      "Epoch 2: val_loss improved from 0.11182 to 0.10949, saving model to best_lstm_model.keras\n",
      "\u001b[1m221/221\u001b[0m \u001b[32m━━━━━━━━━━━━━━━━━━━━\u001b[0m\u001b[37m\u001b[0m \u001b[1m6s\u001b[0m 26ms/step - loss: 0.1095 - val_loss: 0.1095 - learning_rate: 1.0000e-04\n",
      "Epoch 3/50\n",
      "\u001b[1m219/221\u001b[0m \u001b[32m━━━━━━━━━━━━━━━━━━━\u001b[0m\u001b[37m━\u001b[0m \u001b[1m0s\u001b[0m 25ms/step - loss: 0.1071\n",
      "Epoch 3: val_loss improved from 0.10949 to 0.10712, saving model to best_lstm_model.keras\n",
      "\u001b[1m221/221\u001b[0m \u001b[32m━━━━━━━━━━━━━━━━━━━━\u001b[0m\u001b[37m\u001b[0m \u001b[1m6s\u001b[0m 28ms/step - loss: 0.1071 - val_loss: 0.1071 - learning_rate: 1.0000e-04\n",
      "Epoch 4/50\n",
      "\u001b[1m220/221\u001b[0m \u001b[32m━━━━━━━━━━━━━━━━━━━\u001b[0m\u001b[37m━\u001b[0m \u001b[1m0s\u001b[0m 23ms/step - loss: 0.1051\n",
      "Epoch 4: val_loss improved from 0.10712 to 0.10598, saving model to best_lstm_model.keras\n",
      "\u001b[1m221/221\u001b[0m \u001b[32m━━━━━━━━━━━━━━━━━━━━\u001b[0m\u001b[37m\u001b[0m \u001b[1m6s\u001b[0m 26ms/step - loss: 0.1054 - val_loss: 0.1060 - learning_rate: 1.0000e-04\n",
      "Epoch 5/50\n",
      "\u001b[1m219/221\u001b[0m \u001b[32m━━━━━━━━━━━━━━━━━━━\u001b[0m\u001b[37m━\u001b[0m \u001b[1m0s\u001b[0m 26ms/step - loss: 0.1035\n",
      "Epoch 5: val_loss improved from 0.10598 to 0.10534, saving model to best_lstm_model.keras\n",
      "\u001b[1m221/221\u001b[0m \u001b[32m━━━━━━━━━━━━━━━━━━━━\u001b[0m\u001b[37m\u001b[0m \u001b[1m6s\u001b[0m 29ms/step - loss: 0.1039 - val_loss: 0.1053 - learning_rate: 1.0000e-04\n",
      "Epoch 6/50\n",
      "\u001b[1m221/221\u001b[0m \u001b[32m━━━━━━━━━━━━━━━━━━━━\u001b[0m\u001b[37m\u001b[0m \u001b[1m0s\u001b[0m 24ms/step - loss: 0.1022\n",
      "Epoch 6: val_loss improved from 0.10534 to 0.10475, saving model to best_lstm_model.keras\n",
      "\u001b[1m221/221\u001b[0m \u001b[32m━━━━━━━━━━━━━━━━━━━━\u001b[0m\u001b[37m\u001b[0m \u001b[1m6s\u001b[0m 28ms/step - loss: 0.1027 - val_loss: 0.1047 - learning_rate: 1.0000e-04\n",
      "Epoch 7/50\n",
      "\u001b[1m220/221\u001b[0m \u001b[32m━━━━━━━━━━━━━━━━━━━\u001b[0m\u001b[37m━\u001b[0m \u001b[1m0s\u001b[0m 24ms/step - loss: 0.1011\n",
      "Epoch 7: val_loss improved from 0.10475 to 0.10339, saving model to best_lstm_model.keras\n",
      "\u001b[1m221/221\u001b[0m \u001b[32m━━━━━━━━━━━━━━━━━━━━\u001b[0m\u001b[37m\u001b[0m \u001b[1m6s\u001b[0m 27ms/step - loss: 0.1018 - val_loss: 0.1034 - learning_rate: 1.0000e-04\n",
      "Epoch 8/50\n",
      "\u001b[1m221/221\u001b[0m \u001b[32m━━━━━━━━━━━━━━━━━━━━\u001b[0m\u001b[37m\u001b[0m \u001b[1m0s\u001b[0m 25ms/step - loss: 0.1001\n",
      "Epoch 8: val_loss improved from 0.10339 to 0.10157, saving model to best_lstm_model.keras\n",
      "\u001b[1m221/221\u001b[0m \u001b[32m━━━━━━━━━━━━━━━━━━━━\u001b[0m\u001b[37m\u001b[0m \u001b[1m6s\u001b[0m 29ms/step - loss: 0.1009 - val_loss: 0.1016 - learning_rate: 1.0000e-04\n",
      "Epoch 9/50\n",
      "\u001b[1m221/221\u001b[0m \u001b[32m━━━━━━━━━━━━━━━━━━━━\u001b[0m\u001b[37m\u001b[0m \u001b[1m0s\u001b[0m 29ms/step - loss: 0.0994\n",
      "Epoch 9: val_loss improved from 0.10157 to 0.10090, saving model to best_lstm_model.keras\n",
      "\u001b[1m221/221\u001b[0m \u001b[32m━━━━━━━━━━━━━━━━━━━━\u001b[0m\u001b[37m\u001b[0m \u001b[1m8s\u001b[0m 35ms/step - loss: 0.1002 - val_loss: 0.1009 - learning_rate: 1.0000e-04\n",
      "Epoch 10/50\n",
      "\u001b[1m221/221\u001b[0m \u001b[32m━━━━━━━━━━━━━━━━━━━━\u001b[0m\u001b[37m\u001b[0m \u001b[1m0s\u001b[0m 26ms/step - loss: 0.0990\n",
      "Epoch 10: val_loss did not improve from 0.10090\n",
      "\u001b[1m221/221\u001b[0m \u001b[32m━━━━━━━━━━━━━━━━━━━━\u001b[0m\u001b[37m\u001b[0m \u001b[1m9s\u001b[0m 29ms/step - loss: 0.0996 - val_loss: 0.1010 - learning_rate: 1.0000e-04\n",
      "Epoch 11/50\n",
      "\u001b[1m221/221\u001b[0m \u001b[32m━━━━━━━━━━━━━━━━━━━━\u001b[0m\u001b[37m\u001b[0m \u001b[1m0s\u001b[0m 27ms/step - loss: 0.0986\n",
      "Epoch 11: val_loss did not improve from 0.10090\n",
      "\u001b[1m221/221\u001b[0m \u001b[32m━━━━━━━━━━━━━━━━━━━━\u001b[0m\u001b[37m\u001b[0m \u001b[1m7s\u001b[0m 31ms/step - loss: 0.0991 - val_loss: 0.1010 - learning_rate: 1.0000e-04\n",
      "Epoch 12/50\n",
      "\u001b[1m219/221\u001b[0m \u001b[32m━━━━━━━━━━━━━━━━━━━\u001b[0m\u001b[37m━\u001b[0m \u001b[1m0s\u001b[0m 29ms/step - loss: 0.0981\n",
      "Epoch 12: val_loss improved from 0.10090 to 0.10089, saving model to best_lstm_model.keras\n",
      "\u001b[1m221/221\u001b[0m \u001b[32m━━━━━━━━━━━━━━━━━━━━\u001b[0m\u001b[37m\u001b[0m \u001b[1m7s\u001b[0m 33ms/step - loss: 0.0986 - val_loss: 0.1009 - learning_rate: 1.0000e-04\n",
      "Epoch 13/50\n",
      "\u001b[1m221/221\u001b[0m \u001b[32m━━━━━━━━━━━━━━━━━━━━\u001b[0m\u001b[37m\u001b[0m \u001b[1m0s\u001b[0m 26ms/step - loss: 0.0976\n",
      "Epoch 13: val_loss improved from 0.10089 to 0.10067, saving model to best_lstm_model.keras\n",
      "\u001b[1m221/221\u001b[0m \u001b[32m━━━━━━━━━━━━━━━━━━━━\u001b[0m\u001b[37m\u001b[0m \u001b[1m7s\u001b[0m 29ms/step - loss: 0.0981 - val_loss: 0.1007 - learning_rate: 1.0000e-04\n",
      "Epoch 14/50\n",
      "\u001b[1m220/221\u001b[0m \u001b[32m━━━━━━━━━━━━━━━━━━━\u001b[0m\u001b[37m━\u001b[0m \u001b[1m0s\u001b[0m 27ms/step - loss: 0.0971\n",
      "Epoch 14: val_loss improved from 0.10067 to 0.10035, saving model to best_lstm_model.keras\n",
      "\u001b[1m221/221\u001b[0m \u001b[32m━━━━━━━━━━━━━━━━━━━━\u001b[0m\u001b[37m\u001b[0m \u001b[1m7s\u001b[0m 30ms/step - loss: 0.0977 - val_loss: 0.1004 - learning_rate: 1.0000e-04\n",
      "Epoch 15/50\n",
      "\u001b[1m220/221\u001b[0m \u001b[32m━━━━━━━━━━━━━━━━━━━\u001b[0m\u001b[37m━\u001b[0m \u001b[1m0s\u001b[0m 28ms/step - loss: 0.0967\n",
      "Epoch 15: val_loss improved from 0.10035 to 0.10000, saving model to best_lstm_model.keras\n",
      "\u001b[1m221/221\u001b[0m \u001b[32m━━━━━━━━━━━━━━━━━━━━\u001b[0m\u001b[37m\u001b[0m \u001b[1m7s\u001b[0m 31ms/step - loss: 0.0972 - val_loss: 0.1000 - learning_rate: 1.0000e-04\n",
      "Epoch 16/50\n",
      "\u001b[1m219/221\u001b[0m \u001b[32m━━━━━━━━━━━━━━━━━━━\u001b[0m\u001b[37m━\u001b[0m \u001b[1m0s\u001b[0m 28ms/step - loss: 0.0962\n",
      "Epoch 16: val_loss improved from 0.10000 to 0.09968, saving model to best_lstm_model.keras\n",
      "\u001b[1m221/221\u001b[0m \u001b[32m━━━━━━━━━━━━━━━━━━━━\u001b[0m\u001b[37m\u001b[0m \u001b[1m7s\u001b[0m 31ms/step - loss: 0.0968 - val_loss: 0.0997 - learning_rate: 1.0000e-04\n",
      "Epoch 17/50\n",
      "\u001b[1m221/221\u001b[0m \u001b[32m━━━━━━━━━━━━━━━━━━━━\u001b[0m\u001b[37m\u001b[0m \u001b[1m0s\u001b[0m 26ms/step - loss: 0.0958\n",
      "Epoch 17: val_loss improved from 0.09968 to 0.09939, saving model to best_lstm_model.keras\n",
      "\u001b[1m221/221\u001b[0m \u001b[32m━━━━━━━━━━━━━━━━━━━━\u001b[0m\u001b[37m\u001b[0m \u001b[1m7s\u001b[0m 30ms/step - loss: 0.0965 - val_loss: 0.0994 - learning_rate: 1.0000e-04\n",
      "Epoch 18/50\n",
      "\u001b[1m220/221\u001b[0m \u001b[32m━━━━━━━━━━━━━━━━━━━\u001b[0m\u001b[37m━\u001b[0m \u001b[1m0s\u001b[0m 26ms/step - loss: 0.0954\n",
      "Epoch 18: val_loss improved from 0.09939 to 0.09910, saving model to best_lstm_model.keras\n",
      "\u001b[1m221/221\u001b[0m \u001b[32m━━━━━━━━━━━━━━━━━━━━\u001b[0m\u001b[37m\u001b[0m \u001b[1m7s\u001b[0m 29ms/step - loss: 0.0961 - val_loss: 0.0991 - learning_rate: 1.0000e-04\n",
      "Epoch 19/50\n",
      "\u001b[1m220/221\u001b[0m \u001b[32m━━━━━━━━━━━━━━━━━━━\u001b[0m\u001b[37m━\u001b[0m \u001b[1m0s\u001b[0m 30ms/step - loss: 0.0950\n",
      "Epoch 19: val_loss improved from 0.09910 to 0.09882, saving model to best_lstm_model.keras\n",
      "\u001b[1m221/221\u001b[0m \u001b[32m━━━━━━━━━━━━━━━━━━━━\u001b[0m\u001b[37m\u001b[0m \u001b[1m7s\u001b[0m 33ms/step - loss: 0.0958 - val_loss: 0.0988 - learning_rate: 1.0000e-04\n",
      "Epoch 20/50\n",
      "\u001b[1m219/221\u001b[0m \u001b[32m━━━━━━━━━━━━━━━━━━━\u001b[0m\u001b[37m━\u001b[0m \u001b[1m0s\u001b[0m 25ms/step - loss: 0.0947\n",
      "Epoch 20: val_loss improved from 0.09882 to 0.09853, saving model to best_lstm_model.keras\n",
      "\u001b[1m221/221\u001b[0m \u001b[32m━━━━━━━━━━━━━━━━━━━━\u001b[0m\u001b[37m\u001b[0m \u001b[1m6s\u001b[0m 28ms/step - loss: 0.0955 - val_loss: 0.0985 - learning_rate: 1.0000e-04\n",
      "Epoch 21/50\n",
      "\u001b[1m221/221\u001b[0m \u001b[32m━━━━━━━━━━━━━━━━━━━━\u001b[0m\u001b[37m\u001b[0m \u001b[1m0s\u001b[0m 28ms/step - loss: 0.0944\n",
      "Epoch 21: val_loss improved from 0.09853 to 0.09824, saving model to best_lstm_model.keras\n",
      "\u001b[1m221/221\u001b[0m \u001b[32m━━━━━━━━━━━━━━━━━━━━\u001b[0m\u001b[37m\u001b[0m \u001b[1m7s\u001b[0m 32ms/step - loss: 0.0952 - val_loss: 0.0982 - learning_rate: 1.0000e-04\n",
      "Epoch 22/50\n",
      "\u001b[1m221/221\u001b[0m \u001b[32m━━━━━━━━━━━━━━━━━━━━\u001b[0m\u001b[37m\u001b[0m \u001b[1m0s\u001b[0m 28ms/step - loss: 0.0941\n",
      "Epoch 22: val_loss improved from 0.09824 to 0.09796, saving model to best_lstm_model.keras\n",
      "\u001b[1m221/221\u001b[0m \u001b[32m━━━━━━━━━━━━━━━━━━━━\u001b[0m\u001b[37m\u001b[0m \u001b[1m7s\u001b[0m 32ms/step - loss: 0.0949 - val_loss: 0.0980 - learning_rate: 1.0000e-04\n",
      "Epoch 23/50\n",
      "\u001b[1m221/221\u001b[0m \u001b[32m━━━━━━━━━━━━━━━━━━━━\u001b[0m\u001b[37m\u001b[0m \u001b[1m0s\u001b[0m 27ms/step - loss: 0.0937\n",
      "Epoch 23: val_loss improved from 0.09796 to 0.09768, saving model to best_lstm_model.keras\n",
      "\u001b[1m221/221\u001b[0m \u001b[32m━━━━━━━━━━━━━━━━━━━━\u001b[0m\u001b[37m\u001b[0m \u001b[1m7s\u001b[0m 30ms/step - loss: 0.0946 - val_loss: 0.0977 - learning_rate: 1.0000e-04\n",
      "Epoch 24/50\n",
      "\u001b[1m219/221\u001b[0m \u001b[32m━━━━━━━━━━━━━━━━━━━\u001b[0m\u001b[37m━\u001b[0m \u001b[1m0s\u001b[0m 30ms/step - loss: 0.0934\n",
      "Epoch 24: val_loss improved from 0.09768 to 0.09741, saving model to best_lstm_model.keras\n",
      "\u001b[1m221/221\u001b[0m \u001b[32m━━━━━━━━━━━━━━━━━━━━\u001b[0m\u001b[37m\u001b[0m \u001b[1m7s\u001b[0m 34ms/step - loss: 0.0943 - val_loss: 0.0974 - learning_rate: 1.0000e-04\n",
      "Epoch 25/50\n",
      "\u001b[1m221/221\u001b[0m \u001b[32m━━━━━━━━━━━━━━━━━━━━\u001b[0m\u001b[37m\u001b[0m \u001b[1m0s\u001b[0m 26ms/step - loss: 0.0931\n",
      "Epoch 25: val_loss improved from 0.09741 to 0.09715, saving model to best_lstm_model.keras\n",
      "\u001b[1m221/221\u001b[0m \u001b[32m━━━━━━━━━━━━━━━━━━━━\u001b[0m\u001b[37m\u001b[0m \u001b[1m7s\u001b[0m 30ms/step - loss: 0.0940 - val_loss: 0.0972 - learning_rate: 1.0000e-04\n",
      "Epoch 26/50\n",
      "\u001b[1m220/221\u001b[0m \u001b[32m━━━━━━━━━━━━━━━━━━━\u001b[0m\u001b[37m━\u001b[0m \u001b[1m0s\u001b[0m 28ms/step - loss: 0.0928\n",
      "Epoch 26: val_loss improved from 0.09715 to 0.09690, saving model to best_lstm_model.keras\n",
      "\u001b[1m221/221\u001b[0m \u001b[32m━━━━━━━━━━━━━━━━━━━━\u001b[0m\u001b[37m\u001b[0m \u001b[1m7s\u001b[0m 31ms/step - loss: 0.0937 - val_loss: 0.0969 - learning_rate: 1.0000e-04\n",
      "Epoch 27/50\n",
      "\u001b[1m221/221\u001b[0m \u001b[32m━━━━━━━━━━━━━━━━━━━━\u001b[0m\u001b[37m\u001b[0m \u001b[1m0s\u001b[0m 37ms/step - loss: 0.0925\n",
      "Epoch 27: val_loss improved from 0.09690 to 0.09664, saving model to best_lstm_model.keras\n",
      "\u001b[1m221/221\u001b[0m \u001b[32m━━━━━━━━━━━━━━━━━━━━\u001b[0m\u001b[37m\u001b[0m \u001b[1m9s\u001b[0m 40ms/step - loss: 0.0934 - val_loss: 0.0966 - learning_rate: 1.0000e-04\n",
      "Epoch 28/50\n",
      "\u001b[1m219/221\u001b[0m \u001b[32m━━━━━━━━━━━━━━━━━━━\u001b[0m\u001b[37m━\u001b[0m \u001b[1m0s\u001b[0m 29ms/step - loss: 0.0922\n",
      "Epoch 28: val_loss improved from 0.09664 to 0.09635, saving model to best_lstm_model.keras\n",
      "\u001b[1m221/221\u001b[0m \u001b[32m━━━━━━━━━━━━━━━━━━━━\u001b[0m\u001b[37m\u001b[0m \u001b[1m7s\u001b[0m 32ms/step - loss: 0.0930 - val_loss: 0.0964 - learning_rate: 1.0000e-04\n",
      "Epoch 29/50\n",
      "\u001b[1m219/221\u001b[0m \u001b[32m━━━━━━━━━━━━━━━━━━━\u001b[0m\u001b[37m━\u001b[0m \u001b[1m0s\u001b[0m 25ms/step - loss: 0.0920\n",
      "Epoch 29: val_loss improved from 0.09635 to 0.09603, saving model to best_lstm_model.keras\n",
      "\u001b[1m221/221\u001b[0m \u001b[32m━━━━━━━━━━━━━━━━━━━━\u001b[0m\u001b[37m\u001b[0m \u001b[1m6s\u001b[0m 28ms/step - loss: 0.0927 - val_loss: 0.0960 - learning_rate: 1.0000e-04\n",
      "Epoch 30/50\n",
      "\u001b[1m219/221\u001b[0m \u001b[32m━━━━━━━━━━━━━━━━━━━\u001b[0m\u001b[37m━\u001b[0m \u001b[1m0s\u001b[0m 27ms/step - loss: 0.0917\n",
      "Epoch 30: val_loss improved from 0.09603 to 0.09564, saving model to best_lstm_model.keras\n",
      "\u001b[1m221/221\u001b[0m \u001b[32m━━━━━━━━━━━━━━━━━━━━\u001b[0m\u001b[37m\u001b[0m \u001b[1m7s\u001b[0m 30ms/step - loss: 0.0924 - val_loss: 0.0956 - learning_rate: 1.0000e-04\n",
      "Epoch 31/50\n",
      "\u001b[1m221/221\u001b[0m \u001b[32m━━━━━━━━━━━━━━━━━━━━\u001b[0m\u001b[37m\u001b[0m \u001b[1m0s\u001b[0m 29ms/step - loss: 0.0914\n",
      "Epoch 31: val_loss improved from 0.09564 to 0.09518, saving model to best_lstm_model.keras\n",
      "\u001b[1m221/221\u001b[0m \u001b[32m━━━━━━━━━━━━━━━━━━━━\u001b[0m\u001b[37m\u001b[0m \u001b[1m7s\u001b[0m 33ms/step - loss: 0.0920 - val_loss: 0.0952 - learning_rate: 1.0000e-04\n",
      "Epoch 32/50\n",
      "\u001b[1m220/221\u001b[0m \u001b[32m━━━━━━━━━━━━━━━━━━━\u001b[0m\u001b[37m━\u001b[0m \u001b[1m0s\u001b[0m 28ms/step - loss: 0.0911\n",
      "Epoch 32: val_loss improved from 0.09518 to 0.09466, saving model to best_lstm_model.keras\n",
      "\u001b[1m221/221\u001b[0m \u001b[32m━━━━━━━━━━━━━━━━━━━━\u001b[0m\u001b[37m\u001b[0m \u001b[1m7s\u001b[0m 31ms/step - loss: 0.0917 - val_loss: 0.0947 - learning_rate: 1.0000e-04\n",
      "Epoch 33/50\n",
      "\u001b[1m221/221\u001b[0m \u001b[32m━━━━━━━━━━━━━━━━━━━━\u001b[0m\u001b[37m\u001b[0m \u001b[1m0s\u001b[0m 30ms/step - loss: 0.0908\n",
      "Epoch 33: val_loss improved from 0.09466 to 0.09409, saving model to best_lstm_model.keras\n",
      "\u001b[1m221/221\u001b[0m \u001b[32m━━━━━━━━━━━━━━━━━━━━\u001b[0m\u001b[37m\u001b[0m \u001b[1m8s\u001b[0m 35ms/step - loss: 0.0913 - val_loss: 0.0941 - learning_rate: 1.0000e-04\n",
      "Epoch 34/50\n",
      "\u001b[1m219/221\u001b[0m \u001b[32m━━━━━━━━━━━━━━━━━━━\u001b[0m\u001b[37m━\u001b[0m \u001b[1m0s\u001b[0m 28ms/step - loss: 0.0904\n",
      "Epoch 34: val_loss improved from 0.09409 to 0.09351, saving model to best_lstm_model.keras\n",
      "\u001b[1m221/221\u001b[0m \u001b[32m━━━━━━━━━━━━━━━━━━━━\u001b[0m\u001b[37m\u001b[0m \u001b[1m9s\u001b[0m 31ms/step - loss: 0.0909 - val_loss: 0.0935 - learning_rate: 1.0000e-04\n",
      "Epoch 35/50\n",
      "\u001b[1m220/221\u001b[0m \u001b[32m━━━━━━━━━━━━━━━━━━━\u001b[0m\u001b[37m━\u001b[0m \u001b[1m0s\u001b[0m 30ms/step - loss: 0.0901\n",
      "Epoch 35: val_loss improved from 0.09351 to 0.09294, saving model to best_lstm_model.keras\n",
      "\u001b[1m221/221\u001b[0m \u001b[32m━━━━━━━━━━━━━━━━━━━━\u001b[0m\u001b[37m\u001b[0m \u001b[1m7s\u001b[0m 33ms/step - loss: 0.0906 - val_loss: 0.0929 - learning_rate: 1.0000e-04\n",
      "Epoch 36/50\n",
      "\u001b[1m220/221\u001b[0m \u001b[32m━━━━━━━━━━━━━━━━━━━\u001b[0m\u001b[37m━\u001b[0m \u001b[1m0s\u001b[0m 28ms/step - loss: 0.0897\n",
      "Epoch 36: val_loss improved from 0.09294 to 0.09241, saving model to best_lstm_model.keras\n",
      "\u001b[1m221/221\u001b[0m \u001b[32m━━━━━━━━━━━━━━━━━━━━\u001b[0m\u001b[37m\u001b[0m \u001b[1m7s\u001b[0m 32ms/step - loss: 0.0901 - val_loss: 0.0924 - learning_rate: 1.0000e-04\n",
      "Epoch 37/50\n",
      "\u001b[1m219/221\u001b[0m \u001b[32m━━━━━━━━━━━━━━━━━━━\u001b[0m\u001b[37m━\u001b[0m \u001b[1m0s\u001b[0m 26ms/step - loss: 0.0893\n",
      "Epoch 37: val_loss improved from 0.09241 to 0.09190, saving model to best_lstm_model.keras\n",
      "\u001b[1m221/221\u001b[0m \u001b[32m━━━━━━━━━━━━━━━━━━━━\u001b[0m\u001b[37m\u001b[0m \u001b[1m7s\u001b[0m 29ms/step - loss: 0.0897 - val_loss: 0.0919 - learning_rate: 1.0000e-04\n",
      "Epoch 38/50\n",
      "\u001b[1m220/221\u001b[0m \u001b[32m━━━━━━━━━━━━━━━━━━━\u001b[0m\u001b[37m━\u001b[0m \u001b[1m0s\u001b[0m 27ms/step - loss: 0.0888\n",
      "Epoch 38: val_loss improved from 0.09190 to 0.09140, saving model to best_lstm_model.keras\n",
      "\u001b[1m221/221\u001b[0m \u001b[32m━━━━━━━━━━━━━━━━━━━━\u001b[0m\u001b[37m\u001b[0m \u001b[1m7s\u001b[0m 30ms/step - loss: 0.0892 - val_loss: 0.0914 - learning_rate: 1.0000e-04\n",
      "Epoch 39/50\n",
      "\u001b[1m220/221\u001b[0m \u001b[32m━━━━━━━━━━━━━━━━━━━\u001b[0m\u001b[37m━\u001b[0m \u001b[1m0s\u001b[0m 32ms/step - loss: 0.0883\n",
      "Epoch 39: val_loss improved from 0.09140 to 0.09092, saving model to best_lstm_model.keras\n",
      "\u001b[1m221/221\u001b[0m \u001b[32m━━━━━━━━━━━━━━━━━━━━\u001b[0m\u001b[37m\u001b[0m \u001b[1m8s\u001b[0m 36ms/step - loss: 0.0887 - val_loss: 0.0909 - learning_rate: 1.0000e-04\n",
      "Epoch 40/50\n",
      "\u001b[1m220/221\u001b[0m \u001b[32m━━━━━━━━━━━━━━━━━━━\u001b[0m\u001b[37m━\u001b[0m \u001b[1m0s\u001b[0m 29ms/step - loss: 0.0878\n",
      "Epoch 40: val_loss improved from 0.09092 to 0.09043, saving model to best_lstm_model.keras\n",
      "\u001b[1m221/221\u001b[0m \u001b[32m━━━━━━━━━━━━━━━━━━━━\u001b[0m\u001b[37m\u001b[0m \u001b[1m7s\u001b[0m 32ms/step - loss: 0.0882 - val_loss: 0.0904 - learning_rate: 1.0000e-04\n",
      "Epoch 41/50\n",
      "\u001b[1m219/221\u001b[0m \u001b[32m━━━━━━━━━━━━━━━━━━━\u001b[0m\u001b[37m━\u001b[0m \u001b[1m0s\u001b[0m 31ms/step - loss: 0.0873\n",
      "Epoch 41: val_loss improved from 0.09043 to 0.08996, saving model to best_lstm_model.keras\n",
      "\u001b[1m221/221\u001b[0m \u001b[32m━━━━━━━━━━━━━━━━━━━━\u001b[0m\u001b[37m\u001b[0m \u001b[1m8s\u001b[0m 34ms/step - loss: 0.0877 - val_loss: 0.0900 - learning_rate: 1.0000e-04\n",
      "Epoch 42/50\n",
      "\u001b[1m219/221\u001b[0m \u001b[32m━━━━━━━━━━━━━━━━━━━\u001b[0m\u001b[37m━\u001b[0m \u001b[1m0s\u001b[0m 32ms/step - loss: 0.0868\n",
      "Epoch 42: val_loss improved from 0.08996 to 0.08948, saving model to best_lstm_model.keras\n",
      "\u001b[1m221/221\u001b[0m \u001b[32m━━━━━━━━━━━━━━━━━━━━\u001b[0m\u001b[37m\u001b[0m \u001b[1m8s\u001b[0m 35ms/step - loss: 0.0872 - val_loss: 0.0895 - learning_rate: 1.0000e-04\n",
      "Epoch 43/50\n",
      "\u001b[1m221/221\u001b[0m \u001b[32m━━━━━━━━━━━━━━━━━━━━\u001b[0m\u001b[37m\u001b[0m \u001b[1m0s\u001b[0m 28ms/step - loss: 0.0863\n",
      "Epoch 43: val_loss improved from 0.08948 to 0.08902, saving model to best_lstm_model.keras\n",
      "\u001b[1m221/221\u001b[0m \u001b[32m━━━━━━━━━━━━━━━━━━━━\u001b[0m\u001b[37m\u001b[0m \u001b[1m7s\u001b[0m 32ms/step - loss: 0.0867 - val_loss: 0.0890 - learning_rate: 1.0000e-04\n",
      "Epoch 44/50\n",
      "\u001b[1m220/221\u001b[0m \u001b[32m━━━━━━━━━━━━━━━━━━━\u001b[0m\u001b[37m━\u001b[0m \u001b[1m0s\u001b[0m 29ms/step - loss: 0.0858\n",
      "Epoch 44: val_loss improved from 0.08902 to 0.08856, saving model to best_lstm_model.keras\n",
      "\u001b[1m221/221\u001b[0m \u001b[32m━━━━━━━━━━━━━━━━━━━━\u001b[0m\u001b[37m\u001b[0m \u001b[1m10s\u001b[0m 32ms/step - loss: 0.0862 - val_loss: 0.0886 - learning_rate: 1.0000e-04\n",
      "Epoch 45/50\n",
      "\u001b[1m220/221\u001b[0m \u001b[32m━━━━━━━━━━━━━━━━━━━\u001b[0m\u001b[37m━\u001b[0m \u001b[1m0s\u001b[0m 28ms/step - loss: 0.0853\n",
      "Epoch 45: val_loss improved from 0.08856 to 0.08811, saving model to best_lstm_model.keras\n",
      "\u001b[1m221/221\u001b[0m \u001b[32m━━━━━━━━━━━━━━━━━━━━\u001b[0m\u001b[37m\u001b[0m \u001b[1m7s\u001b[0m 31ms/step - loss: 0.0857 - val_loss: 0.0881 - learning_rate: 1.0000e-04\n",
      "Epoch 46/50\n",
      "\u001b[1m221/221\u001b[0m \u001b[32m━━━━━━━━━━━━━━━━━━━━\u001b[0m\u001b[37m\u001b[0m \u001b[1m0s\u001b[0m 28ms/step - loss: 0.0848\n",
      "Epoch 46: val_loss improved from 0.08811 to 0.08768, saving model to best_lstm_model.keras\n",
      "\u001b[1m221/221\u001b[0m \u001b[32m━━━━━━━━━━━━━━━━━━━━\u001b[0m\u001b[37m\u001b[0m \u001b[1m7s\u001b[0m 31ms/step - loss: 0.0851 - val_loss: 0.0877 - learning_rate: 1.0000e-04\n",
      "Epoch 47/50\n",
      "\u001b[1m221/221\u001b[0m \u001b[32m━━━━━━━━━━━━━━━━━━━━\u001b[0m\u001b[37m\u001b[0m \u001b[1m0s\u001b[0m 30ms/step - loss: 0.0842\n",
      "Epoch 47: val_loss improved from 0.08768 to 0.08727, saving model to best_lstm_model.keras\n",
      "\u001b[1m221/221\u001b[0m \u001b[32m━━━━━━━━━━━━━━━━━━━━\u001b[0m\u001b[37m\u001b[0m \u001b[1m7s\u001b[0m 33ms/step - loss: 0.0845 - val_loss: 0.0873 - learning_rate: 1.0000e-04\n",
      "Epoch 48/50\n",
      "\u001b[1m220/221\u001b[0m \u001b[32m━━━━━━━━━━━━━━━━━━━\u001b[0m\u001b[37m━\u001b[0m \u001b[1m0s\u001b[0m 30ms/step - loss: 0.0837\n",
      "Epoch 48: val_loss improved from 0.08727 to 0.08689, saving model to best_lstm_model.keras\n",
      "\u001b[1m221/221\u001b[0m \u001b[32m━━━━━━━━━━━━━━━━━━━━\u001b[0m\u001b[37m\u001b[0m \u001b[1m7s\u001b[0m 33ms/step - loss: 0.0839 - val_loss: 0.0869 - learning_rate: 1.0000e-04\n",
      "Epoch 49/50\n",
      "\u001b[1m220/221\u001b[0m \u001b[32m━━━━━━━━━━━━━━━━━━━\u001b[0m\u001b[37m━\u001b[0m \u001b[1m0s\u001b[0m 35ms/step - loss: 0.0831\n",
      "Epoch 49: val_loss improved from 0.08689 to 0.08651, saving model to best_lstm_model.keras\n",
      "\u001b[1m221/221\u001b[0m \u001b[32m━━━━━━━━━━━━━━━━━━━━\u001b[0m\u001b[37m\u001b[0m \u001b[1m8s\u001b[0m 38ms/step - loss: 0.0833 - val_loss: 0.0865 - learning_rate: 1.0000e-04\n",
      "Epoch 50/50\n",
      "\u001b[1m219/221\u001b[0m \u001b[32m━━━━━━━━━━━━━━━━━━━\u001b[0m\u001b[37m━\u001b[0m \u001b[1m0s\u001b[0m 30ms/step - loss: 0.0826\n",
      "Epoch 50: val_loss improved from 0.08651 to 0.08613, saving model to best_lstm_model.keras\n",
      "\u001b[1m221/221\u001b[0m \u001b[32m━━━━━━━━━━━━━━━━━━━━\u001b[0m\u001b[37m\u001b[0m \u001b[1m7s\u001b[0m 33ms/step - loss: 0.0827 - val_loss: 0.0861 - learning_rate: 1.0000e-04\n",
      "Restoring model weights from the end of the best epoch: 50.\n"
     ]
    }
   ],
   "source": [
    "history = model.fit(\n",
    "    train_dataset,\n",
    "    epochs=50,\n",
    "    validation_data=val_dataset,\n",
    "    callbacks=[early_stop, reduce_lr, model_ckpt]\n",
    ")\n"
   ]
  },
  {
   "cell_type": "code",
   "execution_count": 13,
   "id": "9cac8b3b-622e-44cb-9a7d-689a26c13333",
   "metadata": {},
   "outputs": [
    {
     "data": {
      "image/png": "[encoded data removed]",
      "text/plain": [
       "<Figure size 800x500 with 1 Axes>"
      ]
     },
     "metadata": {},
     "output_type": "display_data"
    }
   ],
   "source": [
    "plt.figure(figsize=(8,5))\n",
    "plt.plot(history.history['loss'], label='Train Loss')\n",
    "plt.plot(history.history['val_loss'], label='Validation Loss')\n",
    "plt.title(\"Training & Validation Loss\")\n",
    "plt.xlabel(\"Epoch\")\n",
    "plt.ylabel(\"MSE Loss\")\n",
    "plt.legend()\n",
    "plt.show()\n"
   ]
  },
  {
   "cell_type": "code",
   "execution_count": null,
   "id": "1a5ae923-9b9e-4986-865c-2b358440b3f1",
   "metadata": {},
   "outputs": [],
   "source": []
  }
 ],
 "metadata": {
  "kernelspec": {
   "display_name": "Python 3 (ipykernel)",
   "language": "python",
   "name": "python3"
  },
  "language_info": {
   "codemirror_mode": {
    "name": "ipython",
    "version": 3
   },
   "file_extension": ".py",
   "mimetype": "text/x-python",
   "name": "python",
   "nbconvert_exporter": "python",
   "pygments_lexer": "ipython3",
   "version": "3.12.6"
  },
  "widgets": {
   "application/vnd.jupyter.widget-state+json": {
    "state": {},
    "version_major": 2,
    "version_minor": 0
   }
  }
 },
 "nbformat": 4,
 "nbformat_minor": 5
}
