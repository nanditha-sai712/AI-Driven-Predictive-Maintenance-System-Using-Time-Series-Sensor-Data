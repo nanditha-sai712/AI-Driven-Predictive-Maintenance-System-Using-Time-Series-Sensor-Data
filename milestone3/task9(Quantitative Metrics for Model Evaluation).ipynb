{
 "cells": [
  {
   "cell_type": "code",
   "execution_count": 2,
   "id": "971144c0-a5c9-4ca1-9c03-20c00d264555",
   "metadata": {},
   "outputs": [],
   "source": [
    "import numpy as np\n",
    "import pandas as pd\n",
    "from sklearn.metrics import mean_squared_error, mean_absolute_error\n",
    "import tensorflow as tf\n",
    "import matplotlib.pyplot as plt\n",
    "\n",
    "# Suppress warnings for clearer output\n",
    "import warnings\n",
    "warnings.filterwarnings('ignore')"
   ]
  },
  {
   "cell_type": "code",
   "execution_count": 13,
   "id": "0c2e60eb-ad02-4e99-8a50-c6b531ba25bc",
   "metadata": {},
   "outputs": [
    {
     "name": "stdout",
     "output_type": "stream",
     "text": [
      "Test feature shape: (17731, 30, 66)\n",
      "Test target shape: (17631,)\n"
     ]
    }
   ],
   "source": [
    "\n",
    "\n",
    "# Step 2: Load test features and labels\n",
    "X_test = np.load(\"rolling_window_sequences.npy\")  # Replace with actual file path\n",
    "metadata_test = pd.read_csv(\"sequence_metadata_with_RUL.csv\")  # Replace with actual file path\n",
    "y_test = metadata_test[\"RUL\"].values\n",
    "\n",
    "print(\"Test feature shape:\", X_test.shape)\n",
    "print(\"Test target shape:\", y_test.shape)\n",
    "\n"
   ]
  },
  {
   "cell_type": "code",
   "execution_count": 14,
   "id": "257f7923-d2a1-4de4-9b1c-e2925cd5bf86",
   "metadata": {},
   "outputs": [],
   "source": [
    "# Step 3: Load trained LSTM model\n",
    "model = tf.keras.models.load_model(\"best_lstm_model.keras\")\n",
    "\n"
   ]
  },
  {
   "cell_type": "code",
   "execution_count": 15,
   "id": "61f74982-62f8-452f-ba69-235c31bd12b2",
   "metadata": {},
   "outputs": [
    {
     "name": "stdout",
     "output_type": "stream",
     "text": [
      "\u001b[1m555/555\u001b[0m \u001b[32m━━━━━━━━━━━━━━━━━━━━\u001b[0m\u001b[37m\u001b[0m \u001b[1m10s\u001b[0m 16ms/step\n"
     ]
    }
   ],
   "source": [
    "# Step 4: Predict on X_test (only once!)\n",
    "y_pred = model.predict(X_test, batch_size=32, verbose=1)\n",
    "\n"
   ]
  },
  {
   "cell_type": "code",
   "execution_count": 18,
   "id": "5f51b61c-4e12-4c10-a06d-8c37027311fb",
   "metadata": {},
   "outputs": [],
   "source": [
    "# Step 5: Flatten predictions (for regression output)\n",
    "y_pred = y_pred.flatten()\n"
   ]
  },
  {
   "cell_type": "code",
   "execution_count": 22,
   "id": "ea9120a7-9e71-4d7a-a386-a35125d119cc",
   "metadata": {},
   "outputs": [
    {
     "name": "stdout",
     "output_type": "stream",
     "text": [
      "After alignment and NaN removal -> Length y_test: 17231, Length y_pred: 17231\n"
     ]
    }
   ],
   "source": [
    "# Align lengths first\n",
    "min_len = min(len(y_test), len(y_pred))\n",
    "y_test = y_test[:min_len]\n",
    "y_pred = y_pred[:min_len]\n",
    "\n",
    "# Remove NaNs\n",
    "mask = ~np.isnan(y_test) & ~np.isnan(y_pred)\n",
    "y_test = y_test[mask]\n",
    "y_pred = y_pred[mask]\n",
    "\n",
    "print(f\"After alignment and NaN removal -> Length y_test: {len(y_test)}, Length y_pred: {len(y_pred)}\")\n"
   ]
  },
  {
   "cell_type": "code",
   "execution_count": 23,
   "id": "c877f924-3934-40cc-b4af-d89bfacf1ec8",
   "metadata": {},
   "outputs": [
    {
     "name": "stdout",
     "output_type": "stream",
     "text": [
      "Root Mean Squared Error (RMSE): 92.2583\n",
      "Mean Absolute Error (MAE): 81.4059\n"
     ]
    }
   ],
   "source": [
    "rmse = np.sqrt(mean_squared_error(y_test, y_pred))\n",
    "mae = mean_absolute_error(y_test, y_pred)\n",
    "\n",
    "print(f\"Root Mean Squared Error (RMSE): {rmse:.4f}\")\n",
    "print(f\"Mean Absolute Error (MAE): {mae:.4f}\")\n"
   ]
  },
  {
   "cell_type": "code",
   "execution_count": null,
   "id": "a3de100b-f0e6-4eb1-bb5c-2612653a5ed8",
   "metadata": {},
   "outputs": [],
   "source": []
  }
 ],
 "metadata": {
  "kernelspec": {
   "display_name": "Python 3 (ipykernel)",
   "language": "python",
   "name": "python3"
  },
  "language_info": {
   "codemirror_mode": {
    "name": "ipython",
    "version": 3
   },
   "file_extension": ".py",
   "mimetype": "text/x-python",
   "name": "python",
   "nbconvert_exporter": "python",
   "pygments_lexer": "ipython3",
   "version": "3.12.6"
  },
  "widgets": {
   "application/vnd.jupyter.widget-state+json": {
    "state": {},
    "version_major": 2,
    "version_minor": 0
   }
  }
 },
 "nbformat": 4,
 "nbformat_minor": 5
}
