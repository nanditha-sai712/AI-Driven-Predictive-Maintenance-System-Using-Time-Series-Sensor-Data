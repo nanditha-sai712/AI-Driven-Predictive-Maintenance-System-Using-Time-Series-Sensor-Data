{
 "cells": [
  {
   "cell_type": "code",
   "execution_count": 49,
   "id": "b861d48b-ab90-4987-aa4c-7d1b0e99961d",
   "metadata": {},
   "outputs": [],
   "source": [
    "                                             **IMPLEMENTATION OF GRU ON TIME SERIES DATA**   \n",
    "# Import necessary libraries\n",
    "import numpy as np\n",
    "import pandas as pd\n",
    "import tensorflow as tf\n",
    "from tensorflow.keras.models import Sequential\n",
    "from tensorflow.keras.optimizers import Adam\n",
    "from tensorflow.keras.layers import Embedding, GRU, Dense, Dropout\n",
    "from tensorflow.keras.preprocessing.text import Tokenizer\n",
    "# from tensorflow.keras.preprocessing.sequence import pad_sequences\n",
    "from sklearn.metrics import mean_squared_error\n",
    "from sklearn.model_selection import train_test_split\n",
    "import matplotlib.pyplot as plt\n",
    "from tensorflow.keras.callbacks import EarlyStopping\n"
   ]
  },
  {
   "cell_type": "code",
   "execution_count": 33,
   "id": "d091e6ee-12f9-4dea-94fe-6c7dee1da029",
   "metadata": {},
   "outputs": [
    {
     "name": "stdout",
     "output_type": "stream",
     "text": [
      "Test feature shape: (17731, 30, 66)\n",
      "Test target shape: (17631,)\n"
     ]
    }
   ],
   "source": [
    "# Load test features and labels\n",
    "X_test = np.load('rolling_window_sequences.npy')  # Replace with actual file path\n",
    "metadata_test = pd.read_csv(\"sequence_metadata_with_RUL.csv\")  # Replace with actual file path\n",
    "y_test = metadata_test[\"RUL\"].values\n",
    "print(\"Test feature shape:\", X_test.shape)\n",
    "print(\"Test target shape:\", y_test.shape)"
   ]
  },
  {
   "cell_type": "code",
   "execution_count": 39,
   "id": "5ba99f81-65fb-4f10-9329-e63508aca36c",
   "metadata": {},
   "outputs": [],
   "source": [
    "# Split the data into train and validation sets (assuming no separate train set given)\n",
    "X_train, X_val, y_train, y_val = train_test_split(X_test, y_test, test_size=0.3, random_state=42)\n"
   ]
  },
  {
   "cell_type": "code",
   "execution_count": 40,
   "id": "a75b8d49-4258-47a6-9eb1-a1bc40e3a250",
   "metadata": {},
   "outputs": [],
   "source": [
    "for i in range(X_train.shape[2]):\n",
    "    mean_val = np.nanmean(X_train[:,:,i])\n",
    "    X_train[:,:,i][np.isnan(X_train[:,:,i])] = mean_val\n",
    "\n",
    "for i in range(X_val.shape[2]):\n",
    "    mean_val = np.nanmean(X_val[:,:,i])\n",
    "    X_val[:,:,i][np.isnan(X_val[:,:,i])] = mean_val\n",
    "\n",
    "\n"
   ]
  },
  {
   "cell_type": "code",
   "execution_count": 41,
   "id": "6f617643-79ce-40c6-b918-502df30ded0a",
   "metadata": {},
   "outputs": [],
   "source": [
    "from sklearn.preprocessing import MinMaxScaler\n",
    "\n",
    "n_samples, n_timesteps, n_features = X_train.shape\n",
    "X_train_2d = X_train.reshape(-1, n_features)\n",
    "scaler_X = MinMaxScaler()\n",
    "X_train_scaled = scaler_X.fit_transform(X_train_2d)\n",
    "X_train = X_train_scaled.reshape(n_samples, n_timesteps, n_features)\n",
    "\n",
    "# Apply same scaler to validation set\n",
    "X_val = scaler_X.transform(X_val.reshape(-1, n_features)).reshape(X_val.shape)\n"
   ]
  },
  {
   "cell_type": "code",
   "execution_count": 42,
   "id": "19a8f21a-c288-4dc9-a68c-a77991524b2d",
   "metadata": {},
   "outputs": [],
   "source": [
    "from tensorflow.keras.models import Sequential\n",
    "from tensorflow.keras.layers import GRU, Dense, Dropout, Input\n",
    "\n",
    "def create_gru_model(input_shape, units=64, dropout_rate=0.2):\n",
    "    model = Sequential()\n",
    "    model.add(Input(shape=input_shape))  # input layer\n",
    "    model.add(GRU(units, return_sequences=False))  # GRU layer\n",
    "    model.add(Dropout(dropout_rate))  # dropout for regularization\n",
    "    model.add(Dense(1, activation='linear'))  # output layer\n",
    "    model.compile(optimizer='adam', loss='mse', metrics=['mae'])\n",
    "    return model\n",
    "\n",
    "model = create_gru_model(input_shape=(X_train.shape[1], X_train.shape[2]))\n"
   ]
  },
  {
   "cell_type": "code",
   "execution_count": 43,
   "id": "4a50e235-1b9f-4c1a-be6e-1fc3ed14729e",
   "metadata": {},
   "outputs": [],
   "source": [
    "from tensorflow.keras.callbacks import EarlyStopping\n",
    "\n",
    "callbacks = [\n",
    "    EarlyStopping(monitor='val_loss', patience=5, restore_best_weights=True)\n",
    "]\n"
   ]
  },
  {
   "cell_type": "code",
   "execution_count": 44,
   "id": "aba3b32d-1af7-481e-80bc-6232d384d869",
   "metadata": {},
   "outputs": [
    {
     "name": "stdout",
     "output_type": "stream",
     "text": [
      "Epoch 1/30\n",
      "\u001b[1m193/193\u001b[0m \u001b[32m━━━━━━━━━━━━━━━━━━━━\u001b[0m\u001b[37m\u001b[0m \u001b[1m12s\u001b[0m 44ms/step - loss: 6661.9150 - mae: 70.1395 - val_loss: 5643.8394 - val_mae: 63.8439\n",
      "Epoch 2/30\n",
      "\u001b[1m193/193\u001b[0m \u001b[32m━━━━━━━━━━━━━━━━━━━━\u001b[0m\u001b[37m\u001b[0m \u001b[1m8s\u001b[0m 44ms/step - loss: 4996.0312 - mae: 59.8251 - val_loss: 4380.2280 - val_mae: 55.8751\n",
      "Epoch 3/30\n",
      "\u001b[1m193/193\u001b[0m \u001b[32m━━━━━━━━━━━━━━━━━━━━\u001b[0m\u001b[37m\u001b[0m \u001b[1m8s\u001b[0m 41ms/step - loss: 3921.5156 - mae: 53.0259 - val_loss: 3477.5120 - val_mae: 50.0292\n",
      "Epoch 4/30\n",
      "\u001b[1m193/193\u001b[0m \u001b[32m━━━━━━━━━━━━━━━━━━━━\u001b[0m\u001b[37m\u001b[0m \u001b[1m8s\u001b[0m 40ms/step - loss: 3166.5781 - mae: 48.1469 - val_loss: 2855.8608 - val_mae: 45.9568\n",
      "Epoch 5/30\n",
      "\u001b[1m193/193\u001b[0m \u001b[32m━━━━━━━━━━━━━━━━━━━━\u001b[0m\u001b[37m\u001b[0m \u001b[1m11s\u001b[0m 54ms/step - loss: 2656.1814 - mae: 44.6824 - val_loss: 2442.6714 - val_mae: 43.1489\n",
      "Epoch 6/30\n",
      "\u001b[1m193/193\u001b[0m \u001b[32m━━━━━━━━━━━━━━━━━━━━\u001b[0m\u001b[37m\u001b[0m \u001b[1m10s\u001b[0m 49ms/step - loss: 2328.3926 - mae: 42.3810 - val_loss: 2184.6155 - val_mae: 41.2750\n",
      "Epoch 7/30\n",
      "\u001b[1m193/193\u001b[0m \u001b[32m━━━━━━━━━━━━━━━━━━━━\u001b[0m\u001b[37m\u001b[0m \u001b[1m11s\u001b[0m 55ms/step - loss: 2127.5896 - mae: 40.8349 - val_loss: 2031.2280 - val_mae: 40.0838\n",
      "Epoch 8/30\n",
      "\u001b[1m193/193\u001b[0m \u001b[32m━━━━━━━━━━━━━━━━━━━━\u001b[0m\u001b[37m\u001b[0m \u001b[1m10s\u001b[0m 52ms/step - loss: 2006.6455 - mae: 39.8111 - val_loss: 1947.1272 - val_mae: 39.3635\n",
      "Epoch 9/30\n",
      "\u001b[1m193/193\u001b[0m \u001b[32m━━━━━━━━━━━━━━━━━━━━\u001b[0m\u001b[37m\u001b[0m \u001b[1m10s\u001b[0m 53ms/step - loss: 1954.3190 - mae: 39.3710 - val_loss: 1904.9843 - val_mae: 38.9468\n",
      "Epoch 10/30\n",
      "\u001b[1m193/193\u001b[0m \u001b[32m━━━━━━━━━━━━━━━━━━━━\u001b[0m\u001b[37m\u001b[0m \u001b[1m9s\u001b[0m 48ms/step - loss: 1927.4761 - mae: 39.0262 - val_loss: 1886.0061 - val_mae: 38.7259\n",
      "Epoch 11/30\n",
      "\u001b[1m193/193\u001b[0m \u001b[32m━━━━━━━━━━━━━━━━━━━━\u001b[0m\u001b[37m\u001b[0m \u001b[1m7s\u001b[0m 34ms/step - loss: 1912.2938 - mae: 38.8323 - val_loss: 1877.7205 - val_mae: 38.5977\n",
      "Epoch 12/30\n",
      "\u001b[1m193/193\u001b[0m \u001b[32m━━━━━━━━━━━━━━━━━━━━\u001b[0m\u001b[37m\u001b[0m \u001b[1m7s\u001b[0m 35ms/step - loss: 1903.8275 - mae: 38.6652 - val_loss: 1874.4773 - val_mae: 38.5250\n",
      "Epoch 13/30\n",
      "\u001b[1m193/193\u001b[0m \u001b[32m━━━━━━━━━━━━━━━━━━━━\u001b[0m\u001b[37m\u001b[0m \u001b[1m7s\u001b[0m 36ms/step - loss: 1904.5239 - mae: 38.6328 - val_loss: 1873.2916 - val_mae: 38.4818\n",
      "Epoch 14/30\n",
      "\u001b[1m193/193\u001b[0m \u001b[32m━━━━━━━━━━━━━━━━━━━━\u001b[0m\u001b[37m\u001b[0m \u001b[1m7s\u001b[0m 37ms/step - loss: 1901.6865 - mae: 38.5944 - val_loss: 1873.0739 - val_mae: 38.4712\n",
      "Epoch 15/30\n",
      "\u001b[1m193/193\u001b[0m \u001b[32m━━━━━━━━━━━━━━━━━━━━\u001b[0m\u001b[37m\u001b[0m \u001b[1m11s\u001b[0m 38ms/step - loss: 1904.3423 - mae: 38.6175 - val_loss: 1872.8877 - val_mae: 38.4574\n",
      "Epoch 16/30\n",
      "\u001b[1m193/193\u001b[0m \u001b[32m━━━━━━━━━━━━━━━━━━━━\u001b[0m\u001b[37m\u001b[0m \u001b[1m7s\u001b[0m 34ms/step - loss: 1902.8164 - mae: 38.6054 - val_loss: 1872.8549 - val_mae: 38.4533\n",
      "Epoch 17/30\n",
      "\u001b[1m193/193\u001b[0m \u001b[32m━━━━━━━━━━━━━━━━━━━━\u001b[0m\u001b[37m\u001b[0m \u001b[1m10s\u001b[0m 50ms/step - loss: 1910.3007 - mae: 38.6056 - val_loss: 1872.8636 - val_mae: 38.4546\n",
      "Epoch 18/30\n",
      "\u001b[1m193/193\u001b[0m \u001b[32m━━━━━━━━━━━━━━━━━━━━\u001b[0m\u001b[37m\u001b[0m \u001b[1m9s\u001b[0m 47ms/step - loss: 1912.8527 - mae: 38.6445 - val_loss: 1872.9645 - val_mae: 38.4642\n",
      "Epoch 19/30\n",
      "\u001b[1m193/193\u001b[0m \u001b[32m━━━━━━━━━━━━━━━━━━━━\u001b[0m\u001b[37m\u001b[0m \u001b[1m7s\u001b[0m 36ms/step - loss: 1907.7167 - mae: 38.5859 - val_loss: 1872.8650 - val_mae: 38.4547\n",
      "Epoch 20/30\n",
      "\u001b[1m193/193\u001b[0m \u001b[32m━━━━━━━━━━━━━━━━━━━━\u001b[0m\u001b[37m\u001b[0m \u001b[1m7s\u001b[0m 37ms/step - loss: 1905.1733 - mae: 38.5518 - val_loss: 1872.9069 - val_mae: 38.4593\n",
      "Epoch 21/30\n",
      "\u001b[1m193/193\u001b[0m \u001b[32m━━━━━━━━━━━━━━━━━━━━\u001b[0m\u001b[37m\u001b[0m \u001b[1m7s\u001b[0m 35ms/step - loss: 1907.0071 - mae: 38.5865 - val_loss: 1873.0044 - val_mae: 38.4669\n"
     ]
    }
   ],
   "source": [
    "history = model.fit(\n",
    "    X_train, y_train,\n",
    "    validation_data=(X_val, y_val),\n",
    "    epochs=30,\n",
    "    batch_size=64,\n",
    "    callbacks=callbacks,\n",
    "    verbose=1\n",
    ")\n"
   ]
  },
  {
   "cell_type": "code",
   "execution_count": 45,
   "id": "b8f2aa39-f4e7-4813-92c5-b130cac1707e",
   "metadata": {},
   "outputs": [
    {
     "name": "stdout",
     "output_type": "stream",
     "text": [
      "Validation MSE: 1872.8556, MAE: 38.4533\n"
     ]
    }
   ],
   "source": [
    "val_loss, val_mae = model.evaluate(X_val, y_val, verbose=0)\n",
    "print(f'Validation MSE: {val_loss:.4f}, MAE: {val_mae:.4f}')\n"
   ]
  },
  {
   "cell_type": "code",
   "execution_count": 48,
   "id": "da52f5f0-282e-4e7c-a8e3-be1748a83eb2",
   "metadata": {},
   "outputs": [
    {
     "name": "stdout",
     "output_type": "stream",
     "text": [
      "\u001b[1m551/551\u001b[0m \u001b[32m━━━━━━━━━━━━━━━━━━━━\u001b[0m\u001b[37m\u001b[0m \u001b[1m6s\u001b[0m 10ms/step\n"
     ]
    }
   ],
   "source": [
    "y_pred = model.predict(X_test).flatten()\n"
   ]
  },
  {
   "cell_type": "code",
   "execution_count": null,
   "id": "9d61d839-b1e1-4c06-95bb-569a089c0879",
   "metadata": {},
   "outputs": [],
   "source": []
  },
  {
   "cell_type": "code",
   "execution_count": null,
   "id": "f1c6b827-8a23-42b0-a4f5-d47b8d4433ef",
   "metadata": {},
   "outputs": [],
   "source": []
  }
 ],
 "metadata": {
  "kernelspec": {
   "display_name": "Python 3 (ipykernel)",
   "language": "python",
   "name": "python3"
  },
  "language_info": {
   "codemirror_mode": {
    "name": "ipython",
    "version": 3
   },
   "file_extension": ".py",
   "mimetype": "text/x-python",
   "name": "python",
   "nbconvert_exporter": "python",
   "pygments_lexer": "ipython3",
   "version": "3.12.6"
  },
  "widgets": {
   "application/vnd.jupyter.widget-state+json": {
    "state": {},
    "version_major": 2,
    "version_minor": 0
   }
  }
 },
 "nbformat": 4,
 "nbformat_minor": 5
}
