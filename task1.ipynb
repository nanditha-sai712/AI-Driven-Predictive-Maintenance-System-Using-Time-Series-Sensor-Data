  Task 1 – Data Loading & Cleaning (Short Version)

Dataset: C-MAPSS → engine sensor data (engine_id, cycle, 3 op_settings, 21 sensors).

Libraries: pandas, numpy, matplotlib.

Load Data: pd.read_csv('train_FD001.txt', sep='\s+', header=None, names=column_names)

Check Data:

df.info() → types & missing values

df.describe().transpose() → stats

Missing Values:

df.isnull().sum() → check

df.fillna(method='ffill').fillna(method='bfill') → fill if needed

Save Clean Data: df.to_csv('cmapss_cleaned_train_FD001.csv', index=False)

Summary: Confirm rows & columns → data ready for next steps.{
 "cells": [
  {
   "cell_type": "code",
   "execution_count": 1,
   "id": "e697f6a7-b97c-4a03-a758-a82b5569c5cf",
   "metadata": {},
   "outputs": [],
   "source": [
    "import pandas as pd\n",
    "import numpy as np\n",
    "import matplotlib.pyplot as plt\n",
    "\n",
    "# Column names\n",
    "column_names = [\"engine_id\", \"cycle\", \"op_setting_1\", \"op_setting_2\", \"op_setting_3\"] + [f\"sensor_{i}\" for i in range(1,22)]\n",
    "\n",
    "# Load dataset\n",
    "df = pd.read_csv('train_FD001.txt', sep=r'\\s+', header=None, names=column_names)"
   ]
  },
  {
   "cell_type": "code",
   "execution_count": 2,
   "id": "16221d55-d73f-49c7-8e42-9a1bdb28b39a",
   "metadata": {},
   "outputs": [
    {
     "name": "stdout",
     "output_type": "stream",
     "text": [
      "Shape of the DataFrame: (20631, 26)\n",
      "First 5 rows of dataset:\n",
      "   engine_id  cycle  op_setting_1  op_setting_2  op_setting_3  sensor_1  \\\n",
      "0          1      1       -0.0007       -0.0004         100.0    518.67   \n",
      "1          1      2        0.0019       -0.0003         100.0    518.67   \n",
      "2          1      3       -0.0043        0.0003         100.0    518.67   \n",
      "3          1      4        0.0007        0.0000         100.0    518.67   \n",
      "4          1      5       -0.0019       -0.0002         100.0    518.67   \n",
      "\n",
      "   sensor_2  sensor_3  sensor_4  sensor_5  ...  sensor_12  sensor_13  \\\n",
      "0    641.82   1589.70   1400.60     14.62  ...     521.66    2388.02   \n",
      "1    642.15   1591.82   1403.14     14.62  ...     522.28    2388.07   \n",
      "2    642.35   1587.99   1404.20     14.62  ...     522.42    2388.03   \n",
      "3    642.35   1582.79   1401.87     14.62  ...     522.86    2388.08   \n",
      "4    642.37   1582.85   1406.22     14.62  ...     522.19    2388.04   \n",
      "\n",
      "   sensor_14  sensor_15  sensor_16  sensor_17  sensor_18  sensor_19  \\\n",
      "0    8138.62     8.4195       0.03        392       2388      100.0   \n",
      "1    8131.49     8.4318       0.03        392       2388      100.0   \n",
      "2    8133.23     8.4178       0.03        390       2388      100.0   \n",
      "3    8133.83     8.3682       0.03        392       2388      100.0   \n",
      "4    8133.80     8.4294       0.03        393       2388      100.0   \n",
      "\n",
      "   sensor_20  sensor_21  \n",
      "0      39.06    23.4190  \n",
      "1      39.00    23.4236  \n",
      "2      38.95    23.3442  \n",
      "3      38.88    23.3739  \n",
      "4      38.90    23.4044  \n",
      "\n",
      "[5 rows x 26 columns]\n"
     ]
    }
   ],
   "source": [
    "# Step 4: Print Shape & Head\n",
    "print(\"Shape of the DataFrame:\", df.shape)  # rows x columns\n",
    "print(\"First 5 rows of dataset:\")\n",
    "print(df.head())  # first 5 rows preview\n",
    "\n"
   ]
  },
  {
   "cell_type": "code",
   "execution_count": 3,
   "id": "bbf3cdf3-792c-4e34-92b8-485a8403d7f1",
   "metadata": {},
   "outputs": [
    {
     "name": "stdout",
     "output_type": "stream",
     "text": [
      "\n",
      "--- Data Info ---\n",
      "<class 'pandas.core.frame.DataFrame'>\n",
      "RangeIndex: 20631 entries, 0 to 20630\n",
      "Data columns (total 26 columns):\n",
      " #   Column        Non-Null Count  Dtype  \n",
      "---  ------        --------------  -----  \n",
      " 0   engine_id     20631 non-null  int64  \n",
      " 1   cycle         20631 non-null  int64  \n",
      " 2   op_setting_1  20631 non-null  float64\n",
      " 3   op_setting_2  20631 non-null  float64\n",
      " 4   op_setting_3  20631 non-null  float64\n",
      " 5   sensor_1      20631 non-null  float64\n",
      " 6   sensor_2      20631 non-null  float64\n",
      " 7   sensor_3      20631 non-null  float64\n",
      " 8   sensor_4      20631 non-null  float64\n",
      " 9   sensor_5      20631 non-null  float64\n",
      " 10  sensor_6      20631 non-null  float64\n",
      " 11  sensor_7      20631 non-null  float64\n",
      " 12  sensor_8      20631 non-null  float64\n",
      " 13  sensor_9      20631 non-null  float64\n",
      " 14  sensor_10     20631 non-null  float64\n",
      " 15  sensor_11     20631 non-null  float64\n",
      " 16  sensor_12     20631 non-null  float64\n",
      " 17  sensor_13     20631 non-null  float64\n",
      " 18  sensor_14     20631 non-null  float64\n",
      " 19  sensor_15     20631 non-null  float64\n",
      " 20  sensor_16     20631 non-null  float64\n",
      " 21  sensor_17     20631 non-null  int64  \n",
      " 22  sensor_18     20631 non-null  int64  \n",
      " 23  sensor_19     20631 non-null  float64\n",
      " 24  sensor_20     20631 non-null  float64\n",
      " 25  sensor_21     20631 non-null  float64\n",
      "dtypes: float64(22), int64(4)\n",
      "memory usage: 4.1 MB\n",
      "\n",
      "--- Summary Statistics ---\n",
      "                count         mean           std        min        25%  \\\n",
      "engine_id     20631.0    51.506568  2.922763e+01     1.0000    26.0000   \n",
      "cycle         20631.0   108.807862  6.888099e+01     1.0000    52.0000   \n",
      "op_setting_1  20631.0    -0.000009  2.187313e-03    -0.0087    -0.0015   \n",
      "op_setting_2  20631.0     0.000002  2.930621e-04    -0.0006    -0.0002   \n",
      "op_setting_3  20631.0   100.000000  0.000000e+00   100.0000   100.0000   \n",
      "sensor_1      20631.0   518.670000  0.000000e+00   518.6700   518.6700   \n",
      "sensor_2      20631.0   642.680934  5.000533e-01   641.2100   642.3250   \n",
      "sensor_3      20631.0  1590.523119  6.131150e+00  1571.0400  1586.2600   \n",
      "sensor_4      20631.0  1408.933782  9.000605e+00  1382.2500  1402.3600   \n",
      "sensor_5      20631.0    14.620000  1.776400e-15    14.6200    14.6200   \n",
      "sensor_6      20631.0    21.609803  1.388985e-03    21.6000    21.6100   \n",
      "sensor_7      20631.0   553.367711  8.850923e-01   549.8500   552.8100   \n",
      "sensor_8      20631.0  2388.096652  7.098548e-02  2387.9000  2388.0500   \n",
      "sensor_9      20631.0  9065.242941  2.208288e+01  9021.7300  9053.1000   \n",
      "sensor_10     20631.0     1.300000  0.000000e+00     1.3000     1.3000   \n",
      "sensor_11     20631.0    47.541168  2.670874e-01    46.8500    47.3500   \n",
      "sensor_12     20631.0   521.413470  7.375534e-01   518.6900   520.9600   \n",
      "sensor_13     20631.0  2388.096152  7.191892e-02  2387.8800  2388.0400   \n",
      "sensor_14     20631.0  8143.752722  1.907618e+01  8099.9400  8133.2450   \n",
      "sensor_15     20631.0     8.442146  3.750504e-02     8.3249     8.4149   \n",
      "sensor_16     20631.0     0.030000  1.387812e-17     0.0300     0.0300   \n",
      "sensor_17     20631.0   393.210654  1.548763e+00   388.0000   392.0000   \n",
      "sensor_18     20631.0  2388.000000  0.000000e+00  2388.0000  2388.0000   \n",
      "sensor_19     20631.0   100.000000  0.000000e+00   100.0000   100.0000   \n",
      "sensor_20     20631.0    38.816271  1.807464e-01    38.1400    38.7000   \n",
      "sensor_21     20631.0    23.289705  1.082509e-01    22.8942    23.2218   \n",
      "\n",
      "                    50%        75%        max  \n",
      "engine_id       52.0000    77.0000   100.0000  \n",
      "cycle          104.0000   156.0000   362.0000  \n",
      "op_setting_1     0.0000     0.0015     0.0087  \n",
      "op_setting_2     0.0000     0.0003     0.0006  \n",
      "op_setting_3   100.0000   100.0000   100.0000  \n",
      "sensor_1       518.6700   518.6700   518.6700  \n",
      "sensor_2       642.6400   643.0000   644.5300  \n",
      "sensor_3      1590.1000  1594.3800  1616.9100  \n",
      "sensor_4      1408.0400  1414.5550  1441.4900  \n",
      "sensor_5        14.6200    14.6200    14.6200  \n",
      "sensor_6        21.6100    21.6100    21.6100  \n",
      "sensor_7       553.4400   554.0100   556.0600  \n",
      "sensor_8      2388.0900  2388.1400  2388.5600  \n",
      "sensor_9      9060.6600  9069.4200  9244.5900  \n",
      "sensor_10        1.3000     1.3000     1.3000  \n",
      "sensor_11       47.5100    47.7000    48.5300  \n",
      "sensor_12      521.4800   521.9500   523.3800  \n",
      "sensor_13     2388.0900  2388.1400  2388.5600  \n",
      "sensor_14     8140.5400  8148.3100  8293.7200  \n",
      "sensor_15        8.4389     8.4656     8.5848  \n",
      "sensor_16        0.0300     0.0300     0.0300  \n",
      "sensor_17      393.0000   394.0000   400.0000  \n",
      "sensor_18     2388.0000  2388.0000  2388.0000  \n",
      "sensor_19      100.0000   100.0000   100.0000  \n",
      "sensor_20       38.8300    38.9500    39.4300  \n",
      "sensor_21       23.2979    23.3668    23.6184  \n"
     ]
    }
   ],
   "source": [
    "# Step 5: Data Profiling\n",
    "print(\"\\n--- Data Info ---\")\n",
    "df.info()  # column names, types, null counts\n",
    "print(\"\\n--- Summary Statistics ---\")\n",
    "print(df.describe().transpose())  # mean, min, max, std for numeric columns\n",
    "\n"
   ]
  },
  {
   "cell_type": "code",
   "execution_count": 4,
   "id": "19e9b508-f9bc-46f3-9f76-a51166e8ccb0",
   "metadata": {},
   "outputs": [
    {
     "name": "stdout",
     "output_type": "stream",
     "text": [
      "\n",
      "Missing values per column:\n",
      "engine_id       0\n",
      "cycle           0\n",
      "op_setting_1    0\n",
      "op_setting_2    0\n",
      "op_setting_3    0\n",
      "sensor_1        0\n",
      "sensor_2        0\n",
      "sensor_3        0\n",
      "sensor_4        0\n",
      "sensor_5        0\n",
      "sensor_6        0\n",
      "sensor_7        0\n",
      "sensor_8        0\n",
      "sensor_9        0\n",
      "sensor_10       0\n",
      "sensor_11       0\n",
      "sensor_12       0\n",
      "sensor_13       0\n",
      "sensor_14       0\n",
      "sensor_15       0\n",
      "sensor_16       0\n",
      "sensor_17       0\n",
      "sensor_18       0\n",
      "sensor_19       0\n",
      "sensor_20       0\n",
      "sensor_21       0\n",
      "dtype: int64\n"
     ]
    }
   ],
   "source": [
    "# Step 6: Check Missing Values\n",
    "print(\"\\nMissing values per column:\")\n",
    "print(df.isnull().sum())  # missing values count per column\n"
   ]
  },
  {
   "cell_type": "code",
   "execution_count": 5,
   "id": "685d71e4-c4c7-4fc6-bebc-b4c0582b05fc",
   "metadata": {},
   "outputs": [
    {
     "name": "stdout",
     "output_type": "stream",
     "text": [
      "No missing values detected.\n"
     ]
    }
   ],
   "source": [
    "#handling missing values if there any\n",
    "if df.isnull().any().any():\n",
    "    df = df.fillna(method='ffill').fillna(method='bfill')\n",
    "    print(\"Missing values after filling:\", df.isnull().sum().sum())\n",
    "else:\n",
    "    print(\"No missing values detected.\")\n"
   ]
  },
  {
   "cell_type": "code",
   "execution_count": 6,
   "id": "c9cd300f-da52-44c1-a66d-c43f5f77238d",
   "metadata": {},
   "outputs": [],
   "source": [
    "#Save Cleaned Dataset\n",
    "df.to_csv('cmapss_cleaned_train_FD001.csv', index=False)  # save cleaned dataset, row numbers exclude\n",
    "\n"
   ]
  },
  {
   "cell_type": "code",
   "execution_count": 8,
   "id": "79fd864c-8335-464c-82c9-3771e1c3ca48",
   "metadata": {},
   "outputs": [
    {
     "name": "stdout",
     "output_type": "stream",
     "text": [
      "\n",
      "The cleaned dataset has 20631 rows and 26 columns.\n",
      "Data loading and initial cleaning complete.\n"
     ]
    }
   ],
   "source": [
    "#Final Summary Report\n",
    "print(f\"\\nThe cleaned dataset has {df.shape[0]} rows and {df.shape[1]} columns.\")\n",
    "print(\"Data loading and initial cleaning complete.\")\n"
   ]
  },
  {
   "cell_type": "code",
   "execution_count": null,
   "id": "a48856b4-e0de-4321-82d0-234741054ea8",
   "metadata": {},
   "outputs": [],
   "source": []
  }
 ],
 "metadata": {
  "kernelspec": {
   "display_name": "Python 3 (ipykernel)",
   "language": "python",
   "name": "python3"
  },
  "language_info": {
   "codemirror_mode": {
    "name": "ipython",
    "version": 3
   },
   "file_extension": ".py",
   "mimetype": "text/x-python",
   "name": "python",
   "nbconvert_exporter": "python",
   "pygments_lexer": "ipython3",
   "version": "3.12.6"
  },
  "widgets": {
   "application/vnd.jupyter.widget-state+json": {
    "state": {},
    "version_major": 2,
    "version_minor": 0
   }
  }
 },
 "nbformat": 4,
 "nbformat_minor": 5
}
