{
 "cells": [
  {
   "cell_type": "code",
   "execution_count": 1,
   "id": "5ceadcd4-068d-4306-9ddd-dd12012251cf",
   "metadata": {},
   "outputs": [],
   "source": [
    "import pandas as pd\n",
    "import numpy as np"
   ]
  },
  {
   "cell_type": "code",
   "execution_count": 2,
   "id": "b9cd4c93-f12d-4089-940c-ab589555aa38",
   "metadata": {},
   "outputs": [
    {
     "name": "stdout",
     "output_type": "stream",
     "text": [
      "Loaded rolling window sequences with shape: (17731, 30, 66)\n"
     ]
    }
   ],
   "source": [
    "# 1. Load rolling windows sequence (NumPy array)\n",
    "sequences = np.load('rolling_window_sequences.npy')\n",
    "print(f\"Loaded rolling window sequences with shape: {sequences.shape}\")"
   ]
  },
  {
   "cell_type": "code",
   "execution_count": 3,
   "id": "09649862-565e-4a7a-bc43-6189366a062f",
   "metadata": {},
   "outputs": [
    {
     "name": "stdout",
     "output_type": "stream",
     "text": [
      "Loaded sequence metadata with shape: (17731, 2)\n"
     ]
    },
    {
     "data": {
      "text/html": [
       "<div>\n",
       "<style scoped>\n",
       "    .dataframe tbody tr th:only-of-type {\n",
       "        vertical-align: middle;\n",
       "    }\n",
       "\n",
       "    .dataframe tbody tr th {\n",
       "        vertical-align: top;\n",
       "    }\n",
       "\n",
       "    .dataframe thead th {\n",
       "        text-align: right;\n",
       "    }\n",
       "</style>\n",
       "<table border=\"1\" class=\"dataframe\">\n",
       "  <thead>\n",
       "    <tr style=\"text-align: right;\">\n",
       "      <th></th>\n",
       "      <th>engine_id</th>\n",
       "      <th>cycle</th>\n",
       "    </tr>\n",
       "  </thead>\n",
       "  <tbody>\n",
       "    <tr>\n",
       "      <th>0</th>\n",
       "      <td>1</td>\n",
       "      <td>30.0</td>\n",
       "    </tr>\n",
       "    <tr>\n",
       "      <th>1</th>\n",
       "      <td>1</td>\n",
       "      <td>31.0</td>\n",
       "    </tr>\n",
       "    <tr>\n",
       "      <th>2</th>\n",
       "      <td>1</td>\n",
       "      <td>32.0</td>\n",
       "    </tr>\n",
       "    <tr>\n",
       "      <th>3</th>\n",
       "      <td>1</td>\n",
       "      <td>33.0</td>\n",
       "    </tr>\n",
       "    <tr>\n",
       "      <th>4</th>\n",
       "      <td>1</td>\n",
       "      <td>34.0</td>\n",
       "    </tr>\n",
       "  </tbody>\n",
       "</table>\n",
       "</div>"
      ],
      "text/plain": [
       "   engine_id  cycle\n",
       "0          1   30.0\n",
       "1          1   31.0\n",
       "2          1   32.0\n",
       "3          1   33.0\n",
       "4          1   34.0"
      ]
     },
     "execution_count": 3,
     "metadata": {},
     "output_type": "execute_result"
    }
   ],
   "source": [
    "# 2. Load sequence metadata (engine_id, cycle)\n",
    "metadata_df = pd.read_csv('sequence_metadata.csv')\n",
    "print(f\"Loaded sequence metadata with shape: {metadata_df.shape}\")\n",
    "metadata_df.head()"
   ]
  },
  {
   "cell_type": "code",
   "execution_count": 4,
   "id": "c455bc49-994d-427d-b586-e9de10e0e770",
   "metadata": {},
   "outputs": [
    {
     "data": {
      "text/html": [
       "<div>\n",
       "<style scoped>\n",
       "    .dataframe tbody tr th:only-of-type {\n",
       "        vertical-align: middle;\n",
       "    }\n",
       "\n",
       "    .dataframe tbody tr th {\n",
       "        vertical-align: top;\n",
       "    }\n",
       "\n",
       "    .dataframe thead th {\n",
       "        text-align: right;\n",
       "    }\n",
       "</style>\n",
       "<table border=\"1\" class=\"dataframe\">\n",
       "  <thead>\n",
       "    <tr style=\"text-align: right;\">\n",
       "      <th></th>\n",
       "      <th>engine_id</th>\n",
       "      <th>max_cycle</th>\n",
       "    </tr>\n",
       "  </thead>\n",
       "  <tbody>\n",
       "    <tr>\n",
       "      <th>0</th>\n",
       "      <td>1</td>\n",
       "      <td>192.0</td>\n",
       "    </tr>\n",
       "    <tr>\n",
       "      <th>1</th>\n",
       "      <td>2</td>\n",
       "      <td>287.0</td>\n",
       "    </tr>\n",
       "    <tr>\n",
       "      <th>2</th>\n",
       "      <td>3</td>\n",
       "      <td>179.0</td>\n",
       "    </tr>\n",
       "    <tr>\n",
       "      <th>3</th>\n",
       "      <td>4</td>\n",
       "      <td>189.0</td>\n",
       "    </tr>\n",
       "    <tr>\n",
       "      <th>4</th>\n",
       "      <td>5</td>\n",
       "      <td>269.0</td>\n",
       "    </tr>\n",
       "  </tbody>\n",
       "</table>\n",
       "</div>"
      ],
      "text/plain": [
       "   engine_id  max_cycle\n",
       "0          1      192.0\n",
       "1          2      287.0\n",
       "2          3      179.0\n",
       "3          4      189.0\n",
       "4          5      269.0"
      ]
     },
     "execution_count": 4,
     "metadata": {},
     "output_type": "execute_result"
    }
   ],
   "source": [
    "# 3. Calculate Remaining Useful Life (RUL) per sequence\n",
    "\n",
    "# Find max cycle per engine in metadata\n",
    "max_cycle_per_engine = metadata_df.groupby('engine_id')['cycle'].max().reset_index()\n",
    "max_cycle_per_engine.columns = ['engine_id', 'max_cycle']\n",
    "max_cycle_per_engine.head()"
   ]
  },
  {
   "cell_type": "code",
   "execution_count": 5,
   "id": "4662a01c-cdfd-498f-a7fe-36fe2f84c98a",
   "metadata": {},
   "outputs": [
    {
     "data": {
      "text/html": [
       "<div>\n",
       "<style scoped>\n",
       "    .dataframe tbody tr th:only-of-type {\n",
       "        vertical-align: middle;\n",
       "    }\n",
       "\n",
       "    .dataframe tbody tr th {\n",
       "        vertical-align: top;\n",
       "    }\n",
       "\n",
       "    .dataframe thead th {\n",
       "        text-align: right;\n",
       "    }\n",
       "</style>\n",
       "<table border=\"1\" class=\"dataframe\">\n",
       "  <thead>\n",
       "    <tr style=\"text-align: right;\">\n",
       "      <th></th>\n",
       "      <th>engine_id</th>\n",
       "      <th>cycle</th>\n",
       "      <th>max_cycle</th>\n",
       "    </tr>\n",
       "  </thead>\n",
       "  <tbody>\n",
       "    <tr>\n",
       "      <th>0</th>\n",
       "      <td>1</td>\n",
       "      <td>30.0</td>\n",
       "      <td>192.0</td>\n",
       "    </tr>\n",
       "    <tr>\n",
       "      <th>1</th>\n",
       "      <td>1</td>\n",
       "      <td>31.0</td>\n",
       "      <td>192.0</td>\n",
       "    </tr>\n",
       "    <tr>\n",
       "      <th>2</th>\n",
       "      <td>1</td>\n",
       "      <td>32.0</td>\n",
       "      <td>192.0</td>\n",
       "    </tr>\n",
       "    <tr>\n",
       "      <th>3</th>\n",
       "      <td>1</td>\n",
       "      <td>33.0</td>\n",
       "      <td>192.0</td>\n",
       "    </tr>\n",
       "    <tr>\n",
       "      <th>4</th>\n",
       "      <td>1</td>\n",
       "      <td>34.0</td>\n",
       "      <td>192.0</td>\n",
       "    </tr>\n",
       "  </tbody>\n",
       "</table>\n",
       "</div>"
      ],
      "text/plain": [
       "   engine_id  cycle  max_cycle\n",
       "0          1   30.0      192.0\n",
       "1          1   31.0      192.0\n",
       "2          1   32.0      192.0\n",
       "3          1   33.0      192.0\n",
       "4          1   34.0      192.0"
      ]
     },
     "execution_count": 5,
     "metadata": {},
     "output_type": "execute_result"
    }
   ],
   "source": [
    "# Merge max cycle info with metadata\n",
    "metadata_df = metadata_df.merge(max_cycle_per_engine, on='engine_id', how='left')\n",
    "metadata_df.head()"
   ]
  },
  {
   "cell_type": "code",
   "execution_count": 6,
   "id": "035368fa-482d-4ea3-af6e-e831d29dd8fc",
   "metadata": {},
   "outputs": [],
   "source": [
    "# Compute RUL\n",
    "metadata_df['RUL'] = metadata_df['max_cycle'] - metadata_df['cycle']"
   ]
  },
  {
   "cell_type": "code",
   "execution_count": 7,
   "id": "542267d2-bfdc-421a-8921-6579594b8e14",
   "metadata": {},
   "outputs": [
    {
     "data": {
      "text/html": [
       "<div>\n",
       "<style scoped>\n",
       "    .dataframe tbody tr th:only-of-type {\n",
       "        vertical-align: middle;\n",
       "    }\n",
       "\n",
       "    .dataframe tbody tr th {\n",
       "        vertical-align: top;\n",
       "    }\n",
       "\n",
       "    .dataframe thead th {\n",
       "        text-align: right;\n",
       "    }\n",
       "</style>\n",
       "<table border=\"1\" class=\"dataframe\">\n",
       "  <thead>\n",
       "    <tr style=\"text-align: right;\">\n",
       "      <th></th>\n",
       "      <th>engine_id</th>\n",
       "      <th>cycle</th>\n",
       "      <th>max_cycle</th>\n",
       "      <th>RUL</th>\n",
       "    </tr>\n",
       "  </thead>\n",
       "  <tbody>\n",
       "    <tr>\n",
       "      <th>0</th>\n",
       "      <td>1</td>\n",
       "      <td>30.0</td>\n",
       "      <td>192.0</td>\n",
       "      <td>162.0</td>\n",
       "    </tr>\n",
       "    <tr>\n",
       "      <th>1</th>\n",
       "      <td>1</td>\n",
       "      <td>31.0</td>\n",
       "      <td>192.0</td>\n",
       "      <td>161.0</td>\n",
       "    </tr>\n",
       "    <tr>\n",
       "      <th>2</th>\n",
       "      <td>1</td>\n",
       "      <td>32.0</td>\n",
       "      <td>192.0</td>\n",
       "      <td>160.0</td>\n",
       "    </tr>\n",
       "    <tr>\n",
       "      <th>3</th>\n",
       "      <td>1</td>\n",
       "      <td>33.0</td>\n",
       "      <td>192.0</td>\n",
       "      <td>159.0</td>\n",
       "    </tr>\n",
       "    <tr>\n",
       "      <th>4</th>\n",
       "      <td>1</td>\n",
       "      <td>34.0</td>\n",
       "      <td>192.0</td>\n",
       "      <td>158.0</td>\n",
       "    </tr>\n",
       "  </tbody>\n",
       "</table>\n",
       "</div>"
      ],
      "text/plain": [
       "   engine_id  cycle  max_cycle    RUL\n",
       "0          1   30.0      192.0  162.0\n",
       "1          1   31.0      192.0  161.0\n",
       "2          1   32.0      192.0  160.0\n",
       "3          1   33.0      192.0  159.0\n",
       "4          1   34.0      192.0  158.0"
      ]
     },
     "execution_count": 7,
     "metadata": {},
     "output_type": "execute_result"
    }
   ],
   "source": [
    "metadata_df.head()"
   ]
  },
  {
   "cell_type": "code",
   "execution_count": 8,
   "id": "6f86375f-bad0-414e-9918-677ecb7633d7",
   "metadata": {},
   "outputs": [
    {
     "data": {
      "text/html": [
       "<div>\n",
       "<style scoped>\n",
       "    .dataframe tbody tr th:only-of-type {\n",
       "        vertical-align: middle;\n",
       "    }\n",
       "\n",
       "    .dataframe tbody tr th {\n",
       "        vertical-align: top;\n",
       "    }\n",
       "\n",
       "    .dataframe thead th {\n",
       "        text-align: right;\n",
       "    }\n",
       "</style>\n",
       "<table border=\"1\" class=\"dataframe\">\n",
       "  <thead>\n",
       "    <tr style=\"text-align: right;\">\n",
       "      <th></th>\n",
       "      <th>engine_id</th>\n",
       "      <th>cycle</th>\n",
       "      <th>RUL</th>\n",
       "    </tr>\n",
       "  </thead>\n",
       "  <tbody>\n",
       "    <tr>\n",
       "      <th>0</th>\n",
       "      <td>1</td>\n",
       "      <td>30.0</td>\n",
       "      <td>130.0</td>\n",
       "    </tr>\n",
       "    <tr>\n",
       "      <th>1</th>\n",
       "      <td>1</td>\n",
       "      <td>31.0</td>\n",
       "      <td>130.0</td>\n",
       "    </tr>\n",
       "    <tr>\n",
       "      <th>2</th>\n",
       "      <td>1</td>\n",
       "      <td>32.0</td>\n",
       "      <td>130.0</td>\n",
       "    </tr>\n",
       "    <tr>\n",
       "      <th>3</th>\n",
       "      <td>1</td>\n",
       "      <td>33.0</td>\n",
       "      <td>130.0</td>\n",
       "    </tr>\n",
       "    <tr>\n",
       "      <th>4</th>\n",
       "      <td>1</td>\n",
       "      <td>34.0</td>\n",
       "      <td>130.0</td>\n",
       "    </tr>\n",
       "  </tbody>\n",
       "</table>\n",
       "</div>"
      ],
      "text/plain": [
       "   engine_id  cycle    RUL\n",
       "0          1   30.0  130.0\n",
       "1          1   31.0  130.0\n",
       "2          1   32.0  130.0\n",
       "3          1   33.0  130.0\n",
       "4          1   34.0  130.0"
      ]
     },
     "execution_count": 8,
     "metadata": {},
     "output_type": "execute_result"
    }
   ],
   "source": [
    "# Optional: Cap RUL values\n",
    "rul_cap = 130\n",
    "metadata_df['RUL'] = metadata_df['RUL'].clip(upper=rul_cap)\n",
    "\n",
    "# Drop max_cycle column if not needed further\n",
    "metadata_df.drop(columns=['max_cycle'], inplace=True)\n",
    "\n",
    "metadata_df.head()"
   ]
  },
  {
   "cell_type": "code",
   "execution_count": 9,
   "id": "bcf0613d-6e89-4efd-8ce5-7e7426d4e64b",
   "metadata": {},
   "outputs": [
    {
     "name": "stdout",
     "output_type": "stream",
     "text": [
      "\n",
      "Engine 1 - Cycles and RULs:\n",
      "   cycle    RUL\n",
      "0   30.0  130.0\n",
      "1   31.0  130.0\n",
      "2   32.0  130.0\n",
      "3   33.0  130.0\n",
      "4   34.0  130.0\n",
      "5   35.0  130.0\n",
      "6   36.0  130.0\n",
      "7   37.0  130.0\n",
      "8   38.0  130.0\n",
      "9   39.0  130.0\n",
      "     cycle  RUL\n",
      "153  183.0  9.0\n",
      "154  184.0  8.0\n",
      "155  185.0  7.0\n",
      "156  186.0  6.0\n",
      "157  187.0  5.0\n",
      "158  188.0  4.0\n",
      "159  189.0  3.0\n",
      "160  190.0  2.0\n",
      "161  191.0  1.0\n",
      "162  192.0  0.0\n",
      "\n",
      "Engine 2 - Cycles and RULs:\n",
      "     cycle    RUL\n",
      "163   30.0  130.0\n",
      "164   31.0  130.0\n",
      "165   32.0  130.0\n",
      "166   33.0  130.0\n",
      "167   34.0  130.0\n",
      "168   35.0  130.0\n",
      "169   36.0  130.0\n",
      "170   37.0  130.0\n",
      "171   38.0  130.0\n",
      "172   39.0  130.0\n",
      "     cycle  RUL\n",
      "411  278.0  9.0\n",
      "412  279.0  8.0\n",
      "413  280.0  7.0\n",
      "414  281.0  6.0\n",
      "415  282.0  5.0\n",
      "416  283.0  4.0\n",
      "417  284.0  3.0\n",
      "418  285.0  2.0\n",
      "419  286.0  1.0\n",
      "420  287.0  0.0\n",
      "\n",
      "Engine 3 - Cycles and RULs:\n",
      "     cycle    RUL\n",
      "421   30.0  130.0\n",
      "422   31.0  130.0\n",
      "423   32.0  130.0\n",
      "424   33.0  130.0\n",
      "425   34.0  130.0\n",
      "426   35.0  130.0\n",
      "427   36.0  130.0\n",
      "428   37.0  130.0\n",
      "429   38.0  130.0\n",
      "430   39.0  130.0\n",
      "     cycle  RUL\n",
      "561  170.0  9.0\n",
      "562  171.0  8.0\n",
      "563  172.0  7.0\n",
      "564  173.0  6.0\n",
      "565  174.0  5.0\n",
      "566  175.0  4.0\n",
      "567  176.0  3.0\n",
      "568  177.0  2.0\n",
      "569  178.0  1.0\n",
      "570  179.0  0.0\n"
     ]
    }
   ],
   "source": [
    "# 4. Validate by inspecting example engine(s)\n",
    "engines_to_check = metadata_df['engine_id'].unique()[:3]  # first 3 engines\n",
    "for engine in engines_to_check:\n",
    "    sample = metadata_df[metadata_df['engine_id'] == engine][['cycle', 'RUL']]\n",
    "    print(f\"\\nEngine {engine} - Cycles and RULs:\")\n",
    "    print(sample.head(10))\n",
    "    print(sample.tail(10))"
   ]
  },
  {
   "cell_type": "code",
   "execution_count": 10,
   "id": "708f7815-b639-41d5-81fc-14767b6f9956",
   "metadata": {},
   "outputs": [
    {
     "name": "stdout",
     "output_type": "stream",
     "text": [
      "Saved updated metadata with RUL as 'sequence_metadata_with_RUL.csv'\n"
     ]
    }
   ],
   "source": [
    "# 5. Save updated metadata with RUL target\n",
    "metadata_df.to_csv('sequence_metadata_with_RUL.csv', index=False)\n",
    "print(\"Saved updated metadata with RUL as 'sequence_metadata_with_RUL.csv'\")"
   ]
  },
  {
   "cell_type": "code",
   "execution_count": null,
   "id": "10922ce9-3261-4f8e-8b2f-bc4321c920cf",
   "metadata": {},
   "outputs": [],
   "source": []
  }
 ],
 "metadata": {
  "kernelspec": {
   "display_name": "Python 3 (ipykernel)",
   "language": "python",
   "name": "python3"
  },
  "language_info": {
   "codemirror_mode": {
    "name": "ipython",
    "version": 3
   },
   "file_extension": ".py",
   "mimetype": "text/x-python",
   "name": "python",
   "nbconvert_exporter": "python",
   "pygments_lexer": "ipython3",
   "version": "3.12.6"
  },
  "widgets": {
   "application/vnd.jupyter.widget-state+json": {
    "state": {},
    "version_major": 2,
    "version_minor": 0
   }
  }
 },
 "nbformat": 4,
 "nbformat_minor": 5
}
