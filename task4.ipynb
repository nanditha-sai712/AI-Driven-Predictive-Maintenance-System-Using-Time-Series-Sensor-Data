{
 "cells": [
  {
   "cell_type": "code",
   "execution_count": 3,
   "id": "fdd8d4e4-f931-4c78-b758-8b96fc9cdaa3",
   "metadata": {},
   "outputs": [
    {
     "name": "stdout",
     "output_type": "stream",
     "text": [
      "Cleaned dataset shape: (20631, 26)\n",
      "Shape of rolling window sequences: (17731, 30, 24)\n",
      "Example sequence shape: (30, 24)\n",
      "Validation checks passed.\n",
      "Sequences and metadata saved successfully.\n"
     ]
    }
   ],
   "source": [
    "import pandas as pd\n",
    "import numpy as np\n",
    "\n",
    "# -------------------------------\n",
    "# 1. Load cleaned CMAPSS training data\n",
    "# -------------------------------\n",
    "df = pd.read_csv('cmapss_cleaned_train_FD001.csv')\n",
    "print(\"Cleaned dataset shape:\", df.shape)\n",
    "\n",
    "# -------------------------------\n",
    "# 2. Feature columns\n",
    "# -------------------------------\n",
    "exclude_cols = ['engine_id', 'cycle']\n",
    "feature_cols = [col for col in df.columns if col not in exclude_cols]\n",
    "\n",
    "# Ensure temporal order\n",
    "df = df.sort_values(['engine_id', 'cycle']).reset_index(drop=True)\n",
    "\n",
    "# -------------------------------\n",
    "# 3. Generate Rolling Window Sequences\n",
    "# -------------------------------\n",
    "def generate_rolling_windows(data, engine_col, features, window_size=30):\n",
    "    sequences = []\n",
    "    engine_ids = []\n",
    "    cycle_ids = []\n",
    "    \n",
    "    for engine in data[engine_col].unique():\n",
    "        engine_data = data[data[engine_col] == engine]\n",
    "        engine_features = engine_data[features].values\n",
    "        \n",
    "        # Generate sequences with rolling window\n",
    "        for i in range(window_size - 1, len(engine_data)):\n",
    "            seq = engine_features[i - window_size + 1 : i + 1]\n",
    "            sequences.append(seq)\n",
    "            engine_ids.append(engine)\n",
    "            cycle_ids.append(engine_data.iloc[i]['cycle'])\n",
    "            \n",
    "    sequences = np.array(sequences)\n",
    "    return sequences, engine_ids, cycle_ids\n",
    "\n",
    "window_size = 30\n",
    "sequences, engine_ids, cycle_ids = generate_rolling_windows(df, 'engine_id', feature_cols, window_size)\n",
    "\n",
    "print(\"Shape of rolling window sequences:\", sequences.shape)\n",
    "print(\"Example sequence shape:\", sequences[0].shape)\n",
    "\n",
    "# -------------------------------\n",
    "# 4. Validation\n",
    "# -------------------------------\n",
    "assert sequences.shape[1] == window_size, \"Sequence window length mismatch\"\n",
    "assert all(cycle_ids[i] > cycle_ids[i-1] or engine_ids[i] != engine_ids[i-1] \n",
    "           for i in range(1, len(cycle_ids))), \"Cycle order violation\"\n",
    "print(\"Validation checks passed.\")\n",
    "\n",
    "# -------------------------------\n",
    "# 5. Save sequences & metadata\n",
    "# -------------------------------\n",
    "np.save('rolling_window_sequences.npy', sequences)\n",
    "pd.DataFrame({'engine_id': engine_ids, 'cycle': cycle_ids}).to_csv('sequence_metadata.csv', index=False)\n",
    "print(\"Sequences and metadata saved successfully.\")\n"
   ]
  },
  {
   "cell_type": "code",
   "execution_count": null,
   "id": "e7ebc8bb-5714-4d09-9e91-227501e3c29b",
   "metadata": {},
   "outputs": [],
   "source": []
  },
  {
   "cell_type": "code",
   "execution_count": null,
   "id": "b1f4c499-16cd-49ce-9980-190a504758de",
   "metadata": {},
   "outputs": [],
   "source": []
  },
  {
   "cell_type": "code",
   "execution_count": null,
   "id": "33fb7106-5871-4389-a384-67107e232ccc",
   "metadata": {},
   "outputs": [],
   "source": []
  },
  {
   "cell_type": "code",
   "execution_count": null,
   "id": "2971c546-1934-451f-a9de-c788d48aaae0",
   "metadata": {},
   "outputs": [],
   "source": []
  }
 ],
 "metadata": {
  "kernelspec": {
   "display_name": "Python 3 (ipykernel)",
   "language": "python",
   "name": "python3"
  },
  "language_info": {
   "codemirror_mode": {
    "name": "ipython",
    "version": 3
   },
   "file_extension": ".py",
   "mimetype": "text/x-python",
   "name": "python",
   "nbconvert_exporter": "python",
   "pygments_lexer": "ipython3",
   "version": "3.12.6"
  },
  "widgets": {
   "application/vnd.jupyter.widget-state+json": {
    "state": {},
    "version_major": 2,
    "version_minor": 0
   }
  }
 },
 "nbformat": 4,
 "nbformat_minor": 5
}
